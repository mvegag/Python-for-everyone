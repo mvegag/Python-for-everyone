{
 "cells": [
  {
   "cell_type": "markdown",
   "source": [
    "## Tipos de datos en Python\n",
    "\n",
    "### Constantes\n",
    "\n",
    "Son valores fijos, pueden ser numeros, letras, etc\n",
    "\n",
    "### Palabras reservadas\n",
    "\n",
    "No se pueden usar como nombres de variables.\n",
    "\n",
    "### Nombres de variables\n",
    "\n",
    "Una variable es un lugar nombrado en la memoria donde un programador puede guardar datos y después usarlos, usando el 'nombre' de la variable.\n",
    "\n",
    "Debe empezar con una letra o barra al piso _ (mejor con una letra).\n",
    "\n",
    "Debe consistir de letras, numberos y barras al piso.\n",
    "\n",
    "Sensible a mayusculas.\n",
    "\n",
    "### Sentencias o líneas"
   ],
   "metadata": {
    "collapsed": false
   },
   "id": "c543a0c98a978c9"
  },
  {
   "cell_type": "code",
   "execution_count": 1,
   "outputs": [
    {
     "name": "stdout",
     "output_type": "stream",
     "text": [
      "4\n"
     ]
    }
   ],
   "source": [
    "x = 2       # statement de asignación\n",
    "x = x + 2   # Asignación con una expresión\n",
    "print(x)    # Print statement"
   ],
   "metadata": {
    "collapsed": false,
    "ExecuteTime": {
     "end_time": "2023-10-18T00:17:04.115524700Z",
     "start_time": "2023-10-18T00:17:04.056234100Z"
    }
   },
   "id": "3d5949303a095f06"
  },
  {
   "cell_type": "markdown",
   "source": [
    "Mnemonic: Escoger un nombre de variable que tenga sentido para lo que estámos haciendo."
   ],
   "metadata": {
    "collapsed": false
   },
   "id": "c98cade1d39c7b88"
  },
  {
   "cell_type": "code",
   "execution_count": 2,
   "outputs": [],
   "source": [
    "x = 0.6\n",
    "x = 3.9 * x * (1 - x) # Python primero calcula la expresión a la derecha y luego la asigna a la variable llamada xbbb"
   ],
   "metadata": {
    "collapsed": false,
    "ExecuteTime": {
     "end_time": "2023-10-18T00:17:29.531705900Z",
     "start_time": "2023-10-18T00:17:29.526195100Z"
    }
   },
   "id": "42df3380f2564149"
  },
  {
   "cell_type": "markdown",
   "source": [
    "## Expresiones\n",
    "\n",
    "### Expresiones numéricas\n",
    "\n",
    "- '+' Adición\n",
    "- '-' Resta\n",
    "- '*' Multiplicación\n",
    "- '/' División\n",
    "- '**' Elevar\n",
    "- '%' Resto"
   ],
   "metadata": {
    "collapsed": false
   },
   "id": "9ab69bfc1bc29585"
  },
  {
   "cell_type": "code",
   "execution_count": 3,
   "outputs": [
    {
     "name": "stdout",
     "output_type": "stream",
     "text": [
      "4\n",
      "5280\n",
      "5.28\n",
      "3\n",
      "64\n"
     ]
    }
   ],
   "source": [
    "xx = 2\n",
    "xx = xx + 2\n",
    "print(xx)\n",
    "\n",
    "yy = 440 * 12\n",
    "print(yy)\n",
    "\n",
    "zz = yy / 1000\n",
    "print(zz)\n",
    "\n",
    "jj = 23\n",
    "kk = jj % 5\n",
    "print(kk)\n",
    "\n",
    "print(4 ** 3)"
   ],
   "metadata": {
    "collapsed": false,
    "ExecuteTime": {
     "end_time": "2023-10-18T00:18:20.117354600Z",
     "start_time": "2023-10-18T00:18:20.110290400Z"
    }
   },
   "id": "8a421ce3857feef6"
  },
  {
   "cell_type": "markdown",
   "source": [
    "### Orden de los operadores"
   ],
   "metadata": {
    "collapsed": false
   },
   "id": "9e53d53a41778db6"
  },
  {
   "cell_type": "code",
   "execution_count": 4,
   "outputs": [],
   "source": [
    "x = 1 + 2 * 3 - 4 / 5 ** 6\n",
    "xx = 1 + (2 * 3) - (4 / 5 ** 6)"
   ],
   "metadata": {
    "collapsed": false,
    "ExecuteTime": {
     "end_time": "2023-10-18T00:18:40.179792300Z",
     "start_time": "2023-10-18T00:18:40.138895800Z"
    }
   },
   "id": "2f9e1b5ed8c32ce0"
  },
  {
   "cell_type": "markdown",
   "source": [
    "- Parentesis van primero.\n",
    "- Exponenciación.\n",
    "- Multipliación, división o resto.\n",
    "- Adición y resta.\n",
    "- De izquierda a derecha."
   ],
   "metadata": {
    "collapsed": false
   },
   "id": "f3dcd6d9547907d4"
  },
  {
   "cell_type": "code",
   "execution_count": 5,
   "outputs": [
    {
     "name": "stdout",
     "output_type": "stream",
     "text": [
      "11.0\n",
      "11.0\n"
     ]
    }
   ],
   "source": [
    "x = 1 + 2 ** 3 / 4 * 5\n",
    "print(x)\n",
    "x = 1 + (((2 ** 3) / 4) * 5)\n",
    "print(x)"
   ],
   "metadata": {
    "collapsed": false,
    "ExecuteTime": {
     "end_time": "2023-10-18T00:18:56.233530600Z",
     "start_time": "2023-10-18T00:18:56.228505500Z"
    }
   },
   "id": "4411dbf615b5eedf"
  },
  {
   "cell_type": "markdown",
   "source": [
    "### Tipos de datos\n",
    "\n",
    "- Variables, literales y las constantes tiene 'tipo'.\n",
    "- Python sabe el tipo de cualquier cosa.\n",
    "- Algunas operaciones están prohibidas.\n",
    "- Se pueden saber los tipos con la función `type()`"
   ],
   "metadata": {
    "collapsed": false
   },
   "id": "da793b96c262c56"
  },
  {
   "cell_type": "code",
   "execution_count": 6,
   "outputs": [
    {
     "name": "stdout",
     "output_type": "stream",
     "text": [
      "hellothere\n"
     ]
    },
    {
     "ename": "TypeError",
     "evalue": "can only concatenate str (not \"int\") to str",
     "output_type": "error",
     "traceback": [
      "\u001B[1;31m---------------------------------------------------------------------------\u001B[0m",
      "\u001B[1;31mTypeError\u001B[0m                                 Traceback (most recent call last)",
      "Cell \u001B[1;32mIn[6], line 3\u001B[0m\n\u001B[0;32m      1\u001B[0m eee \u001B[38;5;241m=\u001B[39m \u001B[38;5;124m'\u001B[39m\u001B[38;5;124mhello\u001B[39m\u001B[38;5;124m'\u001B[39m \u001B[38;5;241m+\u001B[39m \u001B[38;5;124m'\u001B[39m\u001B[38;5;124mthere\u001B[39m\u001B[38;5;124m'\u001B[39m\n\u001B[0;32m      2\u001B[0m \u001B[38;5;28mprint\u001B[39m(eee)\n\u001B[1;32m----> 3\u001B[0m eee \u001B[38;5;241m=\u001B[39m eee \u001B[38;5;241m+\u001B[39m \u001B[38;5;241m1\u001B[39m\n",
      "\u001B[1;31mTypeError\u001B[0m: can only concatenate str (not \"int\") to str"
     ]
    }
   ],
   "source": [
    "eee = 'hello' + 'there'\n",
    "print(eee)\n",
    "eee = eee + 1"
   ],
   "metadata": {
    "collapsed": false,
    "ExecuteTime": {
     "end_time": "2023-10-18T00:19:13.196471900Z",
     "start_time": "2023-10-18T00:19:12.659899Z"
    }
   },
   "id": "9a6998638591c7ac"
  },
  {
   "cell_type": "code",
   "execution_count": 7,
   "outputs": [
    {
     "name": "stdout",
     "output_type": "stream",
     "text": [
      "<class 'str'>\n",
      "<class 'int'>\n"
     ]
    }
   ],
   "source": [
    "print(type(eee))\n",
    "print(type(1))"
   ],
   "metadata": {
    "collapsed": false,
    "ExecuteTime": {
     "end_time": "2023-10-18T00:19:22.377741800Z",
     "start_time": "2023-10-18T00:19:22.372229Z"
    }
   },
   "id": "bde4ddbe9bda50d1"
  },
  {
   "cell_type": "code",
   "execution_count": 8,
   "outputs": [
    {
     "name": "stdout",
     "output_type": "stream",
     "text": [
      "<class 'int'>\n",
      "<class 'float'>\n"
     ]
    }
   ],
   "source": [
    "xx = 1\n",
    "print(type(xx))\n",
    "temp = 98.6\n",
    "print(type(temp)) # menos perfectos"
   ],
   "metadata": {
    "collapsed": false,
    "ExecuteTime": {
     "end_time": "2023-10-18T00:19:36.258931900Z",
     "start_time": "2023-10-18T00:19:36.252425Z"
    }
   },
   "id": "1a3f5d2637042663"
  },
  {
   "cell_type": "code",
   "execution_count": 9,
   "outputs": [
    {
     "name": "stdout",
     "output_type": "stream",
     "text": [
      "199.0\n"
     ]
    }
   ],
   "source": [
    "print(float(99) + 100) # 99.0 y 99 no son iguales"
   ],
   "metadata": {
    "collapsed": false,
    "ExecuteTime": {
     "end_time": "2023-10-18T00:19:58.435810600Z",
     "start_time": "2023-10-18T00:19:58.430409Z"
    }
   },
   "id": "cd8a5f14ee923608"
  },
  {
   "cell_type": "code",
   "execution_count": 10,
   "outputs": [
    {
     "name": "stdout",
     "output_type": "stream",
     "text": [
      "<class 'int'>\n",
      "42.0\n",
      "<class 'float'>\n"
     ]
    }
   ],
   "source": [
    "i = 42\n",
    "print(type(42))\n",
    "f = float(i)\n",
    "print(f)\n",
    "print(type(f))"
   ],
   "metadata": {
    "collapsed": false,
    "ExecuteTime": {
     "end_time": "2023-10-18T00:20:10.595268400Z",
     "start_time": "2023-10-18T00:20:10.591281400Z"
    }
   },
   "id": "9c701305e5485e0f"
  },
  {
   "cell_type": "code",
   "execution_count": 11,
   "outputs": [
    {
     "name": "stdout",
     "output_type": "stream",
     "text": [
      "5.0\n",
      "4.5\n",
      "0.99\n"
     ]
    }
   ],
   "source": [
    "# división de enteros\n",
    "# la división de enteros produce un resultado float\n",
    "\n",
    "print(10 / 2)\n",
    "print(9 / 2)\n",
    "print(99 / 100)"
   ],
   "metadata": {
    "collapsed": false,
    "ExecuteTime": {
     "end_time": "2023-10-18T00:20:18.558387900Z",
     "start_time": "2023-10-18T00:20:18.553876500Z"
    }
   },
   "id": "923e888746f0b53"
  },
  {
   "cell_type": "code",
   "execution_count": 12,
   "outputs": [
    {
     "name": "stdout",
     "output_type": "stream",
     "text": [
      "<class 'str'>\n"
     ]
    },
    {
     "ename": "TypeError",
     "evalue": "can only concatenate str (not \"int\") to str",
     "output_type": "error",
     "traceback": [
      "\u001B[1;31m---------------------------------------------------------------------------\u001B[0m",
      "\u001B[1;31mTypeError\u001B[0m                                 Traceback (most recent call last)",
      "Cell \u001B[1;32mIn[12], line 5\u001B[0m\n\u001B[0;32m      3\u001B[0m sval \u001B[38;5;241m=\u001B[39m \u001B[38;5;124m'\u001B[39m\u001B[38;5;124m123\u001B[39m\u001B[38;5;124m'\u001B[39m\n\u001B[0;32m      4\u001B[0m \u001B[38;5;28mprint\u001B[39m(\u001B[38;5;28mtype\u001B[39m(sval))\n\u001B[1;32m----> 5\u001B[0m \u001B[38;5;28mprint\u001B[39m(sval \u001B[38;5;241m+\u001B[39m \u001B[38;5;241m1\u001B[39m)\n",
      "\u001B[1;31mTypeError\u001B[0m: can only concatenate str (not \"int\") to str"
     ]
    }
   ],
   "source": [
    "# Conversión de cadenas\n",
    "\n",
    "sval = '123'\n",
    "print(type(sval))\n",
    "print(sval + 1)  # no se pueden operar cadenas y numeros"
   ],
   "metadata": {
    "collapsed": false,
    "ExecuteTime": {
     "end_time": "2023-10-18T00:20:29.885880800Z",
     "start_time": "2023-10-18T00:20:29.873118Z"
    }
   },
   "id": "de7f5e48107f7ccc"
  },
  {
   "cell_type": "code",
   "execution_count": 13,
   "outputs": [
    {
     "name": "stdout",
     "output_type": "stream",
     "text": [
      "<class 'int'>\n",
      "124\n"
     ]
    }
   ],
   "source": [
    "ival = int(sval)\n",
    "print(type(ival)) # python puede convertir la cadena a numeros si esta es de solo numeros\n",
    "print(ival + 1)"
   ],
   "metadata": {
    "collapsed": false,
    "ExecuteTime": {
     "end_time": "2023-10-18T00:20:39.376561300Z",
     "start_time": "2023-10-18T00:20:39.371734Z"
    }
   },
   "id": "a269314eaeab24ee"
  },
  {
   "cell_type": "code",
   "execution_count": 14,
   "outputs": [
    {
     "ename": "ValueError",
     "evalue": "invalid literal for int() with base 10: 'hola'",
     "output_type": "error",
     "traceback": [
      "\u001B[1;31m---------------------------------------------------------------------------\u001B[0m",
      "\u001B[1;31mValueError\u001B[0m                                Traceback (most recent call last)",
      "Cell \u001B[1;32mIn[14], line 2\u001B[0m\n\u001B[0;32m      1\u001B[0m nsv \u001B[38;5;241m=\u001B[39m \u001B[38;5;124m'\u001B[39m\u001B[38;5;124mhola\u001B[39m\u001B[38;5;124m'\u001B[39m\n\u001B[1;32m----> 2\u001B[0m \u001B[38;5;28mint\u001B[39m(nsv)\n",
      "\u001B[1;31mValueError\u001B[0m: invalid literal for int() with base 10: 'hola'"
     ]
    }
   ],
   "source": [
    "nsv = 'hola'\n",
    "int(nsv)"
   ],
   "metadata": {
    "collapsed": false,
    "ExecuteTime": {
     "end_time": "2023-10-18T00:20:48.663373400Z",
     "start_time": "2023-10-18T00:20:48.651682300Z"
    }
   },
   "id": "189fe567fda6ce4c"
  },
  {
   "cell_type": "markdown",
   "source": [
    "### Función input\n",
    "\n",
    "- Obliga a python a pausar y leer datos del usuario usando la función `input()`.\n",
    "\n",
    "- La función `input()` devuelve una cadena."
   ],
   "metadata": {
    "collapsed": false
   },
   "id": "a10410479152a27e"
  },
  {
   "cell_type": "code",
   "execution_count": 15,
   "outputs": [
    {
     "name": "stdout",
     "output_type": "stream",
     "text": [
      "Bienvenido Mateo\n"
     ]
    }
   ],
   "source": [
    "nam = input('Quien eres? ')\n",
    "print('Bienvenido', nam) # la coma añade un espacio en print"
   ],
   "metadata": {
    "collapsed": false,
    "ExecuteTime": {
     "end_time": "2023-10-18T00:21:11.219653300Z",
     "start_time": "2023-10-18T00:21:05.832551800Z"
    }
   },
   "id": "d7f70e60efc71561"
  },
  {
   "cell_type": "markdown",
   "source": [
    "### Documentación\n",
    "\n",
    "#### Comentarios:\n",
    "\n",
    "- Cualquier cosa después de #.\n",
    "- Describe que esta pasando.\n",
    "- Documentar cosas importantes del código.\n",
    "- Apagar una linea de código."
   ],
   "metadata": {
    "collapsed": false
   },
   "id": "6c01c15d0e9a228c"
  },
  {
   "cell_type": "code",
   "execution_count": 17,
   "outputs": [
    {
     "ename": "FileNotFoundError",
     "evalue": "[Errno 2] No such file or directory: ''",
     "output_type": "error",
     "traceback": [
      "\u001B[1;31m---------------------------------------------------------------------------\u001B[0m",
      "\u001B[1;31mFileNotFoundError\u001B[0m                         Traceback (most recent call last)",
      "Cell \u001B[1;32mIn[17], line 4\u001B[0m\n\u001B[0;32m      1\u001B[0m \u001B[38;5;66;03m# obtener el nombre del archivo y abrirlo\u001B[39;00m\n\u001B[0;32m      3\u001B[0m name \u001B[38;5;241m=\u001B[39m \u001B[38;5;28minput\u001B[39m(\u001B[38;5;124m'\u001B[39m\u001B[38;5;124mEntre el archivo: \u001B[39m\u001B[38;5;124m'\u001B[39m)\n\u001B[1;32m----> 4\u001B[0m handle \u001B[38;5;241m=\u001B[39m \u001B[38;5;28mopen\u001B[39m(name, \u001B[38;5;124m'\u001B[39m\u001B[38;5;124mr\u001B[39m\u001B[38;5;124m'\u001B[39m)\n\u001B[0;32m      6\u001B[0m \u001B[38;5;66;03m# Contar la frecuencia de las palabras\u001B[39;00m\n\u001B[0;32m      8\u001B[0m counts \u001B[38;5;241m=\u001B[39m \u001B[38;5;28mdict\u001B[39m()\n",
      "File \u001B[1;32m~\\anaconda3\\Lib\\site-packages\\IPython\\core\\interactiveshell.py:286\u001B[0m, in \u001B[0;36m_modified_open\u001B[1;34m(file, *args, **kwargs)\u001B[0m\n\u001B[0;32m    279\u001B[0m \u001B[38;5;28;01mif\u001B[39;00m file \u001B[38;5;129;01min\u001B[39;00m {\u001B[38;5;241m0\u001B[39m, \u001B[38;5;241m1\u001B[39m, \u001B[38;5;241m2\u001B[39m}:\n\u001B[0;32m    280\u001B[0m     \u001B[38;5;28;01mraise\u001B[39;00m \u001B[38;5;167;01mValueError\u001B[39;00m(\n\u001B[0;32m    281\u001B[0m         \u001B[38;5;124mf\u001B[39m\u001B[38;5;124m\"\u001B[39m\u001B[38;5;124mIPython won\u001B[39m\u001B[38;5;124m'\u001B[39m\u001B[38;5;124mt let you open fd=\u001B[39m\u001B[38;5;132;01m{\u001B[39;00mfile\u001B[38;5;132;01m}\u001B[39;00m\u001B[38;5;124m by default \u001B[39m\u001B[38;5;124m\"\u001B[39m\n\u001B[0;32m    282\u001B[0m         \u001B[38;5;124m\"\u001B[39m\u001B[38;5;124mas it is likely to crash IPython. If you know what you are doing, \u001B[39m\u001B[38;5;124m\"\u001B[39m\n\u001B[0;32m    283\u001B[0m         \u001B[38;5;124m\"\u001B[39m\u001B[38;5;124myou can use builtins\u001B[39m\u001B[38;5;124m'\u001B[39m\u001B[38;5;124m open.\u001B[39m\u001B[38;5;124m\"\u001B[39m\n\u001B[0;32m    284\u001B[0m     )\n\u001B[1;32m--> 286\u001B[0m \u001B[38;5;28;01mreturn\u001B[39;00m io_open(file, \u001B[38;5;241m*\u001B[39margs, \u001B[38;5;241m*\u001B[39m\u001B[38;5;241m*\u001B[39mkwargs)\n",
      "\u001B[1;31mFileNotFoundError\u001B[0m: [Errno 2] No such file or directory: ''"
     ]
    }
   ],
   "source": [
    "# obtener el nombre del archivo y abrirlo\n",
    "\n",
    "name = input('Entre el archivo: ')\n",
    "handle = open(name, 'r')\n",
    "\n",
    "# Contar la frecuencia de las palabras\n",
    "\n",
    "counts = dict()\n",
    "for line in handle:\n",
    "  words = line.split()\n",
    "  for word in words:\n",
    "    counts[word] = counts.get(word, 0) + 1\n",
    "\n",
    "# Encontrar la palabra más común\n",
    "\n",
    "bigcount = None\n",
    "bigword = None\n",
    "for word, count in counts.items():\n",
    "  if bigcount is None or count > bigcount:\n",
    "    bigword = word\n",
    "    bigcount = count\n",
    "\n",
    "# Finalizado\n",
    "\n",
    "print(bigword, bigcount)"
   ],
   "metadata": {
    "collapsed": false,
    "ExecuteTime": {
     "end_time": "2023-10-18T00:21:36.655888600Z",
     "start_time": "2023-10-18T00:21:34.460244Z"
    }
   },
   "id": "3e15645438b1339"
  },
  {
   "cell_type": "code",
   "execution_count": 18,
   "outputs": [
    {
     "name": "stdout",
     "output_type": "stream",
     "text": [
      "Piso de USA 2\n"
     ]
    }
   ],
   "source": [
    "# convertir inputs del usuario\n",
    "\n",
    "# convertir pisos de elevador, en usa el piso 1 sería el piso 0 en europa.\n",
    "\n",
    "inp = input('Piso de Europa? ')\n",
    "usf = int(inp) + 1\n",
    "print('Piso de USA', usf)"
   ],
   "metadata": {
    "collapsed": false,
    "ExecuteTime": {
     "end_time": "2023-10-18T00:21:48.638890200Z",
     "start_time": "2023-10-18T00:21:46.705867800Z"
    }
   },
   "id": "43239fce39fc8598"
  },
  {
   "cell_type": "markdown",
   "source": [
    "## declaraciones condicionales"
   ],
   "metadata": {
    "collapsed": false
   },
   "id": "26f9ed80fbc8d829"
  },
  {
   "cell_type": "code",
   "execution_count": 19,
   "outputs": [
    {
     "name": "stdout",
     "output_type": "stream",
     "text": [
      "Pequeño\n",
      "Fin\n"
     ]
    }
   ],
   "source": [
    "x = 5\n",
    "if x < 10:\n",
    "  print('Pequeño')\n",
    "if x > 20:\n",
    "  print('Grande')\n",
    "\n",
    "print('Fin')"
   ],
   "metadata": {
    "collapsed": false,
    "ExecuteTime": {
     "end_time": "2023-10-18T00:22:05.940432100Z",
     "start_time": "2023-10-18T00:22:05.934916400Z"
    }
   },
   "id": "3c418a4f7fe76659"
  },
  {
   "cell_type": "code",
   "execution_count": 20,
   "outputs": [
    {
     "name": "stdout",
     "output_type": "stream",
     "text": [
      "Igual a 5\n",
      "Mayor a 4\n",
      "Menor a 6\n",
      "Menor o igual a 5\n",
      "Diferente a 6\n"
     ]
    }
   ],
   "source": [
    "x = 5\n",
    "if x == 5:\n",
    "  print('Igual a 5') # la identación es importante\n",
    "if x > 4:\n",
    "  print('Mayor a 4')\n",
    "if x < 6:\n",
    "  print('Menor a 6')\n",
    "if x <= 5:\n",
    "  print('Menor o igual a 5')\n",
    "if x != 6:\n",
    "  print('Diferente a 6')"
   ],
   "metadata": {
    "collapsed": false,
    "ExecuteTime": {
     "end_time": "2023-10-18T00:22:13.983605500Z",
     "start_time": "2023-10-18T00:22:13.977502100Z"
    }
   },
   "id": "1be45ce813a8b52e"
  },
  {
   "cell_type": "markdown",
   "source": [],
   "metadata": {
    "collapsed": false
   },
   "id": "112ac5ac6444e527"
  },
  {
   "cell_type": "code",
   "execution_count": 21,
   "outputs": [
    {
     "name": "stdout",
     "output_type": "stream",
     "text": [
      "Antes de 5\n",
      "Es 5\n",
      "Todavia es 5\n",
      "Tercer 5\n",
      "Despues de 5\n",
      "Antes de 6\n"
     ]
    }
   ],
   "source": [
    "print('Antes de 5')\n",
    "if x == 5:\n",
    "  print('Es 5')\n",
    "  print('Todavia es 5')\n",
    "  print('Tercer 5')      # la identación marca donde termina el if\n",
    "print('Despues de 5')\n",
    "print('Antes de 6')\n",
    "if x == 6:\n",
    "  print('Es 6')\n",
    "  print('Todavia es 6')\n",
    "  print('Tercer 6')       # Para la identación es mejor usar tab, poner 4 espacios puede dar problemas en python\n",
    "                          # combinar tabs y espacios individuales puede llevar a errores"
   ],
   "metadata": {
    "collapsed": false,
    "ExecuteTime": {
     "end_time": "2023-10-18T00:22:22.973575900Z",
     "start_time": "2023-10-18T00:22:22.967012700Z"
    }
   },
   "id": "5ec5e95a8169246d"
  },
  {
   "cell_type": "code",
   "execution_count": 22,
   "outputs": [
    {
     "name": "stdout",
     "output_type": "stream",
     "text": [
      "Mayor que 1\n",
      "Menor que 100\n",
      "Fin\n"
     ]
    }
   ],
   "source": [
    "x = 42\n",
    "if x > 1:\n",
    "  print('Mayor que 1')\n",
    "  if x < 100:\n",
    "    print('Menor que 100')\n",
    "print('Fin')"
   ],
   "metadata": {
    "collapsed": false,
    "ExecuteTime": {
     "end_time": "2023-10-18T00:22:30.929523600Z",
     "start_time": "2023-10-18T00:22:30.923301100Z"
    }
   },
   "id": "a15b08808eea0d3"
  },
  {
   "cell_type": "code",
   "execution_count": 23,
   "outputs": [
    {
     "name": "stdout",
     "output_type": "stream",
     "text": [
      "Mayor\n",
      "Fin\n"
     ]
    }
   ],
   "source": [
    "# decisiones de dos opciones\n",
    "\n",
    "x = 4\n",
    "\n",
    "if x > 2:\n",
    "  print('Mayor')\n",
    "else:                  # se usa else (palabra reservada), se quita la identación del primer if y luego se abre otra identacion\n",
    "  print('Menor')\n",
    "\n",
    "print('Fin')"
   ],
   "metadata": {
    "collapsed": false,
    "ExecuteTime": {
     "end_time": "2023-10-18T00:22:37.458574200Z",
     "start_time": "2023-10-18T00:22:37.451986300Z"
    }
   },
   "id": "3fde457e130ccc48"
  },
  {
   "cell_type": "markdown",
   "source": [
    "## Mas declaraciones condicionales"
   ],
   "metadata": {
    "collapsed": false
   },
   "id": "826cd53d4c875e7e"
  },
  {
   "cell_type": "code",
   "execution_count": 24,
   "outputs": [
    {
     "name": "stdout",
     "output_type": "stream",
     "text": [
      "Pequeño\n",
      "Fin\n"
     ]
    }
   ],
   "source": [
    "x = 0\n",
    "\n",
    "if x < 2:              # como c = 0, solo verfica este y salta al final.\n",
    "  print('Pequeño')\n",
    "elif x < 10:           # elif depende de que el if anterior sea falso\n",
    "  print('Mediano')     # se pueden tener tantos elif como uno quiera\n",
    "else:                  # else igual\n",
    "  print('Grande')      # solo corre uno de los tres.\n",
    "print('Fin')"
   ],
   "metadata": {
    "collapsed": false,
    "ExecuteTime": {
     "end_time": "2023-10-18T00:22:54.712342900Z",
     "start_time": "2023-10-18T00:22:54.705327700Z"
    }
   },
   "id": "e275429e8e35af7e"
  },
  {
   "cell_type": "code",
   "execution_count": 25,
   "outputs": [
    {
     "name": "stdout",
     "output_type": "stream",
     "text": [
      "Fin\n"
     ]
    }
   ],
   "source": [
    "# sin else\n",
    "x = 50\n",
    "\n",
    "if x < 2:\n",
    "  print('Pequeño')\n",
    "elif x < 10:\n",
    "  print('Mediano')\n",
    "\n",
    "print('Fin')"
   ],
   "metadata": {
    "collapsed": false,
    "ExecuteTime": {
     "end_time": "2023-10-18T00:23:01.476998700Z",
     "start_time": "2023-10-18T00:23:01.469980300Z"
    }
   },
   "id": "53ddb21ac934b2cd"
  },
  {
   "cell_type": "code",
   "execution_count": 26,
   "outputs": [
    {
     "name": "stdout",
     "output_type": "stream",
     "text": [
      "2 o mas\n"
     ]
    }
   ],
   "source": [
    "if x < 2:\n",
    "  print('Menor a 2')\n",
    "elif x >= 2:\n",
    "  print('2 o mas')\n",
    "else:\n",
    "  print('Otra cosa')   # en este caso este nunca se ejecutaría ya que los otros dos cubren todas las opciones"
   ],
   "metadata": {
    "collapsed": false,
    "ExecuteTime": {
     "end_time": "2023-10-18T00:23:08.661403400Z",
     "start_time": "2023-10-18T00:23:08.653881700Z"
    }
   },
   "id": "4ee66e37f7762c50"
  },
  {
   "cell_type": "code",
   "execution_count": 27,
   "outputs": [
    {
     "name": "stdout",
     "output_type": "stream",
     "text": [
      "Otra cosa\n"
     ]
    }
   ],
   "source": [
    "if x < 2:\n",
    "  print('Menor a 2')\n",
    "elif x < 20:\n",
    "  print('Menor a 20')\n",
    "elif x < 10:\n",
    "  print('Menor a 10')   # este nunca se ejecuta ya que el anterior también cubre a este\n",
    "else:\n",
    "  print('Otra cosa')"
   ],
   "metadata": {
    "collapsed": false,
    "ExecuteTime": {
     "end_time": "2023-10-18T00:23:15.758218700Z",
     "start_time": "2023-10-18T00:23:15.752711500Z"
    }
   },
   "id": "40bc44dbd90c650c"
  },
  {
   "cell_type": "markdown",
   "source": [
    "## Estructura try / except\n",
    "\n",
    "- Se usa cuando una sección de código no es segura.\n",
    "- Si el `try` funciona el `except` se salta.\n",
    "- Si se `try` falla salta a la sección `except`\n"
   ],
   "metadata": {
    "collapsed": false
   },
   "id": "78fbe4084c34b90a"
  },
  {
   "cell_type": "code",
   "execution_count": 28,
   "outputs": [
    {
     "ename": "ValueError",
     "evalue": "invalid literal for int() with base 10: 'Hola'",
     "output_type": "error",
     "traceback": [
      "\u001B[1;31m---------------------------------------------------------------------------\u001B[0m",
      "\u001B[1;31mValueError\u001B[0m                                Traceback (most recent call last)",
      "Cell \u001B[1;32mIn[28], line 2\u001B[0m\n\u001B[0;32m      1\u001B[0m astr \u001B[38;5;241m=\u001B[39m \u001B[38;5;124m'\u001B[39m\u001B[38;5;124mHola\u001B[39m\u001B[38;5;124m'\u001B[39m\n\u001B[1;32m----> 2\u001B[0m istr \u001B[38;5;241m=\u001B[39m \u001B[38;5;28mint\u001B[39m(astr)        \u001B[38;5;66;03m# el codigo para aquí\u001B[39;00m\n\u001B[0;32m      3\u001B[0m \u001B[38;5;28mprint\u001B[39m(\u001B[38;5;124m'\u001B[39m\u001B[38;5;124mPrimero\u001B[39m\u001B[38;5;124m'\u001B[39m, istr)\n\u001B[0;32m      4\u001B[0m astr \u001B[38;5;241m=\u001B[39m \u001B[38;5;124m'\u001B[39m\u001B[38;5;124m123\u001B[39m\u001B[38;5;124m'\u001B[39m\n",
      "\u001B[1;31mValueError\u001B[0m: invalid literal for int() with base 10: 'Hola'"
     ]
    }
   ],
   "source": [
    "astr = 'Hola'\n",
    "istr = int(astr)        # el codigo para aquí\n",
    "print('Primero', istr)\n",
    "astr = '123'\n",
    "istr = int(astr)\n",
    "print('Segundo', istr)"
   ],
   "metadata": {
    "collapsed": false,
    "ExecuteTime": {
     "end_time": "2023-10-18T00:23:30.622244200Z",
     "start_time": "2023-10-18T00:23:30.604877500Z"
    }
   },
   "id": "9d4930afa7be883d"
  },
  {
   "cell_type": "code",
   "execution_count": 29,
   "outputs": [
    {
     "name": "stdout",
     "output_type": "stream",
     "text": [
      "Primero -1\n",
      "Segundo 123\n"
     ]
    }
   ],
   "source": [
    "astr = 'Hola'\n",
    "try:\n",
    "  istr = int(astr)   # el codigo que creemos puede fallar\n",
    "except:\n",
    "  istr = -1          # cuando el try falla el programa salta a esta linea\n",
    "\n",
    "print('Primero', istr)\n",
    "\n",
    "astr = '123'\n",
    "try:\n",
    "  istr = int(astr)\n",
    "except:               # si el try funciona entonces salta el except\n",
    "  istr = -1\n",
    "\n",
    "print('Segundo', istr)"
   ],
   "metadata": {
    "collapsed": false,
    "ExecuteTime": {
     "end_time": "2023-10-18T00:23:38.444872800Z",
     "start_time": "2023-10-18T00:23:38.439845100Z"
    }
   },
   "id": "6839d9043653093c"
  },
  {
   "cell_type": "code",
   "execution_count": 30,
   "outputs": [
    {
     "name": "stdout",
     "output_type": "stream",
     "text": [
      "Bien hecho\n"
     ]
    }
   ],
   "source": [
    "rawstr = input('Ingrese un numero: ')\n",
    "try:\n",
    "  ival = int(rawstr)\n",
    "except:\n",
    "  ival = -1\n",
    "\n",
    "if ival == -1:\n",
    "  print('No es un número')\n",
    "else:\n",
    "  print('Bien hecho')"
   ],
   "metadata": {
    "collapsed": false,
    "ExecuteTime": {
     "end_time": "2023-10-18T00:23:48.729002600Z",
     "start_time": "2023-10-18T00:23:47.050367500Z"
    }
   },
   "id": "5ef23d06f91d3fc3"
  },
  {
   "cell_type": "code",
   "execution_count": 31,
   "outputs": [
    {
     "name": "stdout",
     "output_type": "stream",
     "text": [
      "5.0 1.75\n",
      "Pago 8.75\n"
     ]
    }
   ],
   "source": [
    "sh = input('Entre las horas trabajadas: ')\n",
    "sr = input('Entre el pago por hora: ')\n",
    "\n",
    "try:\n",
    "  fh = float(sh)\n",
    "  fr = float(sr)\n",
    "except:\n",
    "  print('Error, ingrese valores numéricos')\n",
    "  quit()\n",
    "\n",
    "print(fh, fr)\n",
    "if fh > 40:\n",
    "  reg = fr * fh\n",
    "  otp = (fh - 40.0) * (fr * 0.5)\n",
    "  xp = (reg + otp)\n",
    "else:\n",
    "  xp = fh * fr\n",
    "print('Pago', xp)"
   ],
   "metadata": {
    "collapsed": false,
    "ExecuteTime": {
     "end_time": "2023-10-18T00:24:05.349683300Z",
     "start_time": "2023-10-18T00:24:00.349841300Z"
    }
   },
   "id": "cfae855347582d5e"
  },
  {
   "cell_type": "code",
   "execution_count": 1,
   "outputs": [
    {
     "name": "stdout",
     "output_type": "stream",
     "text": [
      "F\n"
     ]
    }
   ],
   "source": [
    "score = input(\"Enter Score: \")\n",
    "s = float(score)\n",
    "\n",
    "if s > 1 or s < 0:\n",
    "    print('Error')\n",
    "    quit()\n",
    "elif s >= 0.9:\n",
    "    print('A')\n",
    "elif s >= 0.8:\n",
    "    print('B')\n",
    "elif s >= 0.7:\n",
    "    print('C')\n",
    "elif s >= 0.6:\n",
    "    print('D')\n",
    "else:\n",
    "  print('F')"
   ],
   "metadata": {
    "collapsed": false,
    "ExecuteTime": {
     "end_time": "2023-10-18T00:25:37.414630400Z",
     "start_time": "2023-10-18T00:25:34.092749700Z"
    }
   },
   "id": "4e7383237d9978bd"
  },
  {
   "cell_type": "markdown",
   "source": [
    "## Funciones \n",
    "\n",
    "Una función es código guardado para usar después "
   ],
   "metadata": {
    "collapsed": false
   },
   "id": "c1b5a4952a5cfb87"
  },
  {
   "cell_type": "code",
   "execution_count": 2,
   "outputs": [],
   "source": [
    "# definir la función\n",
    "def thing():       # se define la función con la palabra def\n",
    "  print('Hello')\n",
    "  print('Fun')"
   ],
   "metadata": {
    "collapsed": false,
    "ExecuteTime": {
     "end_time": "2023-10-18T16:38:29.922488700Z",
     "start_time": "2023-10-18T16:38:29.885772900Z"
    }
   },
   "id": "f5666d39e8dddc40"
  },
  {
   "cell_type": "code",
   "execution_count": 3,
   "outputs": [
    {
     "name": "stdout",
     "output_type": "stream",
     "text": [
      "Hello\n",
      "Fun\n"
     ]
    }
   ],
   "source": [
    "# llamar la función\n",
    "thing()"
   ],
   "metadata": {
    "collapsed": false,
    "ExecuteTime": {
     "end_time": "2023-10-18T16:39:12.522140800Z",
     "start_time": "2023-10-18T16:39:12.514331400Z"
    }
   },
   "id": "c695edc02ca98445"
  },
  {
   "cell_type": "code",
   "execution_count": 5,
   "outputs": [
    {
     "data": {
      "text/plain": "'w'"
     },
     "execution_count": 5,
     "metadata": {},
     "output_type": "execute_result"
    }
   ],
   "source": [
    "big = max('Hello world')\n",
    "big"
   ],
   "metadata": {
    "collapsed": false,
    "ExecuteTime": {
     "end_time": "2023-10-18T16:41:25.314549600Z",
     "start_time": "2023-10-18T16:41:25.301100400Z"
    }
   },
   "id": "2af62e5465a54a3f"
  },
  {
   "cell_type": "code",
   "execution_count": 6,
   "outputs": [
    {
     "data": {
      "text/plain": "' '"
     },
     "execution_count": 6,
     "metadata": {},
     "output_type": "execute_result"
    }
   ],
   "source": [
    "tiny = min('Hello world')\n",
    "tiny"
   ],
   "metadata": {
    "collapsed": false,
    "ExecuteTime": {
     "end_time": "2023-10-18T16:41:50.522209900Z",
     "start_time": "2023-10-18T16:41:50.514735400Z"
    }
   },
   "id": "a1dd3fef5df460f2"
  },
  {
   "cell_type": "markdown",
   "source": [
    "## Conversiones de tipo\n",
    "\n",
    "- Si se pone un entero y un float en una expresión, el entero se convierte en un float.\n",
    "- Se puede controlar con las funciones `int()` y `float()`"
   ],
   "metadata": {
    "collapsed": false
   },
   "id": "ae4d99e2e841cb2f"
  },
  {
   "cell_type": "code",
   "execution_count": 9,
   "outputs": [
    {
     "name": "stdout",
     "output_type": "stream",
     "text": [
      "0.99\n",
      "42\n",
      "<class 'int'>\n",
      "42.0\n",
      "<class 'float'>\n",
      "-2.5\n"
     ]
    }
   ],
   "source": [
    "print(float(99) / 100)\n",
    "i = 42\n",
    "print(i)\n",
    "print(type(i))\n",
    "f = float(i)\n",
    "print(f)\n",
    "print(type(f))\n",
    "print(1 + 2 * float(3) / 4 - 5)"
   ],
   "metadata": {
    "collapsed": false,
    "ExecuteTime": {
     "end_time": "2023-10-18T16:45:44.274292Z",
     "start_time": "2023-10-18T16:45:44.266295Z"
    }
   },
   "id": "7408a745d0008504"
  },
  {
   "cell_type": "markdown",
   "source": [
    "## conversiones de cadenas\n"
   ],
   "metadata": {
    "collapsed": false
   },
   "id": "4b9291888cdef22e"
  },
  {
   "cell_type": "code",
   "execution_count": 11,
   "outputs": [
    {
     "name": "stdout",
     "output_type": "stream",
     "text": [
      "<class 'str'>\n"
     ]
    },
    {
     "ename": "TypeError",
     "evalue": "can only concatenate str (not \"int\") to str",
     "output_type": "error",
     "traceback": [
      "\u001B[1;31m---------------------------------------------------------------------------\u001B[0m",
      "\u001B[1;31mTypeError\u001B[0m                                 Traceback (most recent call last)",
      "Cell \u001B[1;32mIn[11], line 3\u001B[0m\n\u001B[0;32m      1\u001B[0m sval \u001B[38;5;241m=\u001B[39m \u001B[38;5;124m'\u001B[39m\u001B[38;5;124m123\u001B[39m\u001B[38;5;124m'\u001B[39m\n\u001B[0;32m      2\u001B[0m \u001B[38;5;28mprint\u001B[39m(\u001B[38;5;28mtype\u001B[39m(sval))\n\u001B[1;32m----> 3\u001B[0m \u001B[38;5;28mprint\u001B[39m(sval \u001B[38;5;241m+\u001B[39m \u001B[38;5;241m1\u001B[39m)\n",
      "\u001B[1;31mTypeError\u001B[0m: can only concatenate str (not \"int\") to str"
     ]
    }
   ],
   "source": [
    "sval = '123'\n",
    "print(type(sval))\n",
    "print(sval + 1)"
   ],
   "metadata": {
    "collapsed": false,
    "ExecuteTime": {
     "end_time": "2023-10-18T16:47:34.318922100Z",
     "start_time": "2023-10-18T16:47:33.775481900Z"
    }
   },
   "id": "9d786a0d40f99beb"
  },
  {
   "cell_type": "code",
   "execution_count": 12,
   "outputs": [
    {
     "name": "stdout",
     "output_type": "stream",
     "text": [
      "<class 'int'>\n",
      "124\n"
     ]
    }
   ],
   "source": [
    "ival = int(sval)\n",
    "print(type(ival))\n",
    "print(ival + 1)"
   ],
   "metadata": {
    "collapsed": false,
    "ExecuteTime": {
     "end_time": "2023-10-18T16:48:13.695216600Z",
     "start_time": "2023-10-18T16:48:13.688208200Z"
    }
   },
   "id": "3eb6fa073bfa433d"
  },
  {
   "cell_type": "code",
   "execution_count": 13,
   "outputs": [
    {
     "ename": "ValueError",
     "evalue": "invalid literal for int() with base 10: 'Hello'",
     "output_type": "error",
     "traceback": [
      "\u001B[1;31m---------------------------------------------------------------------------\u001B[0m",
      "\u001B[1;31mValueError\u001B[0m                                Traceback (most recent call last)",
      "Cell \u001B[1;32mIn[13], line 2\u001B[0m\n\u001B[0;32m      1\u001B[0m nsv \u001B[38;5;241m=\u001B[39m \u001B[38;5;124m'\u001B[39m\u001B[38;5;124mHello\u001B[39m\u001B[38;5;124m'\u001B[39m\n\u001B[1;32m----> 2\u001B[0m niv \u001B[38;5;241m=\u001B[39m \u001B[38;5;28mint\u001B[39m(nsv)\n",
      "\u001B[1;31mValueError\u001B[0m: invalid literal for int() with base 10: 'Hello'"
     ]
    }
   ],
   "source": [
    "nsv = 'Hello'\n",
    "niv = int(nsv)"
   ],
   "metadata": {
    "collapsed": false,
    "ExecuteTime": {
     "end_time": "2023-10-18T16:48:46.234063500Z",
     "start_time": "2023-10-18T16:48:46.215957500Z"
    }
   },
   "id": "7fa6724e87e52dac"
  },
  {
   "cell_type": "markdown",
   "source": [
    "## Construir funciones \n",
    "\n",
    "- Creamos una nueva función con la palabra def.\n",
    "- Identamos el cuerpo de la función.\n",
    "- Esto define la función, pero no ejecuta el cuerpo de la función.\n",
    "\n",
    "### Argumentos\n",
    "\n",
    "- Un argumento es el valor que pasamos a la función como su input cuando llamamos la función.\n",
    "- Usamos argumentos para que la función pueda hacer diferentes calculos cuando la llamamos diferentes veces.\n",
    "- Ponemos los argumentos en parentesis luego del nombre de la función.\n",
    "\n",
    "### Parámetros \n",
    "\n",
    "- Un parámetro es una variable que usamos en la definición de la función. Permite al código acceder a argumentos para una invocación particular de la función. "
   ],
   "metadata": {
    "collapsed": false
   },
   "id": "e46e808f8e0e4545"
  },
  {
   "cell_type": "code",
   "execution_count": 15,
   "outputs": [],
   "source": [
    "def saludo(lang):   # lang es el parámetro\n",
    "  if lang == 'es':\n",
    "    print('Hola')\n",
    "  elif lang == 'fr':\n",
    "    print('Bonjour')\n",
    "  else: \n",
    "    print('Hello')"
   ],
   "metadata": {
    "collapsed": false,
    "ExecuteTime": {
     "end_time": "2023-10-18T16:59:52.519690900Z",
     "start_time": "2023-10-18T16:59:52.513324300Z"
    }
   },
   "id": "405eeee8ad8c6013"
  },
  {
   "cell_type": "code",
   "execution_count": 19,
   "outputs": [
    {
     "name": "stdout",
     "output_type": "stream",
     "text": [
      "Hello\n",
      "Hola\n",
      "Bonjour\n"
     ]
    }
   ],
   "source": [
    "saludo('en')\n",
    "saludo('es')\n",
    "saludo('fr')"
   ],
   "metadata": {
    "collapsed": false,
    "ExecuteTime": {
     "end_time": "2023-10-18T17:00:24.953716800Z",
     "start_time": "2023-10-18T17:00:24.947101200Z"
    }
   },
   "id": "6081bd0c812f5200"
  },
  {
   "cell_type": "markdown",
   "source": [
    "### Return\n",
    "\n",
    "Usamos el return si necesitamos que la función devuelva un argumento."
   ],
   "metadata": {
    "collapsed": false
   },
   "id": "a998b59d931e05e"
  },
  {
   "cell_type": "code",
   "execution_count": 20,
   "outputs": [
    {
     "name": "stdout",
     "output_type": "stream",
     "text": [
      "Hello Mateo\n"
     ]
    }
   ],
   "source": [
    "def saludo():\n",
    "  return 'Hello'\n",
    "\n",
    "print(saludo(), 'Mateo')"
   ],
   "metadata": {
    "collapsed": false,
    "ExecuteTime": {
     "end_time": "2023-10-18T17:06:10.825801200Z",
     "start_time": "2023-10-18T17:06:10.812261400Z"
    }
   },
   "id": "6106a970e3fa5a77"
  },
  {
   "cell_type": "code",
   "execution_count": 21,
   "outputs": [],
   "source": [
    "def saludo(lang):   # lang es el parámetro\n",
    "  if lang == 'es':\n",
    "    return 'Hola'\n",
    "  elif lang == 'fr':\n",
    "    return 'Bonjour'\n",
    "  else: \n",
    "    return 'Hello'"
   ],
   "metadata": {
    "collapsed": false,
    "ExecuteTime": {
     "end_time": "2023-10-18T17:18:32.078479200Z",
     "start_time": "2023-10-18T17:18:32.070345500Z"
    }
   },
   "id": "5ba8428711203c43"
  },
  {
   "cell_type": "code",
   "execution_count": 24,
   "outputs": [
    {
     "name": "stdout",
     "output_type": "stream",
     "text": [
      "Hello Mateo\n",
      "Hola Mateo\n",
      "Bonjour Mateo\n"
     ]
    }
   ],
   "source": [
    "print(saludo('en'), 'Mateo')\n",
    "print(saludo('es'), 'Mateo')\n",
    "print(saludo('fr'), 'Mateo')"
   ],
   "metadata": {
    "collapsed": false,
    "ExecuteTime": {
     "end_time": "2023-10-18T17:19:06.717245900Z",
     "start_time": "2023-10-18T17:19:06.709571300Z"
    }
   },
   "id": "e35d43e1dcce5833"
  },
  {
   "cell_type": "markdown",
   "source": [],
   "metadata": {
    "collapsed": false
   },
   "id": "871246dc803c6a89"
  },
  {
   "cell_type": "markdown",
   "source": [
    "## Multiples parámetros\n",
    "\n",
    "- Podemos definir mas de un parámetro en la función.\n",
    "- Simplemente añadimos más argumentos cuando llamemos la función.\n",
    "- Tenemos que tener en cuenta el numero y orden de los argumentos y parámetros."
   ],
   "metadata": {
    "collapsed": false
   },
   "id": "8711057d5c6cab3f"
  },
  {
   "cell_type": "code",
   "execution_count": 25,
   "outputs": [
    {
     "name": "stdout",
     "output_type": "stream",
     "text": [
      "8\n"
     ]
    }
   ],
   "source": [
    "def addtwo(a, b):\n",
    "  suma = a + b\n",
    "  return suma\n",
    "\n",
    "x = addtwo(3, 5)\n",
    "print(x)"
   ],
   "metadata": {
    "collapsed": false,
    "ExecuteTime": {
     "end_time": "2023-10-18T19:59:06.105825Z",
     "start_time": "2023-10-18T19:59:06.098872500Z"
    }
   },
   "id": "91ff116306ca71cc"
  },
  {
   "cell_type": "markdown",
   "source": [
    "## Bucles e iteraciones\n",
    "\n",
    "- Tareas repetitivas.\n",
    "- Tienen variables de iteración que cambian con cada bucle."
   ],
   "metadata": {
    "collapsed": false
   },
   "id": "e06d3b533107f90c"
  },
  {
   "cell_type": "code",
   "execution_count": 27,
   "outputs": [
    {
     "name": "stdout",
     "output_type": "stream",
     "text": [
      "5\n",
      "4\n",
      "3\n",
      "2\n",
      "1\n",
      "Fin\n",
      "0\n"
     ]
    }
   ],
   "source": [
    "n = 5\n",
    "\n",
    "while n > 0:\n",
    "  print(n)\n",
    "  n = n - 1     # variable de iteración, controla que el bucle no sea infinito\n",
    "print('Fin')\n",
    "print(n)"
   ],
   "metadata": {
    "collapsed": false,
    "ExecuteTime": {
     "end_time": "2023-10-19T01:09:15.343291700Z",
     "start_time": "2023-10-19T01:09:15.335240200Z"
    }
   },
   "id": "85af1441cb2cea2a"
  },
  {
   "cell_type": "code",
   "execution_count": 29,
   "outputs": [
    {
     "name": "stdout",
     "output_type": "stream",
     "text": [
      "hola\n",
      "mateo\n",
      "Fin\n"
     ]
    }
   ],
   "source": [
    "## salir de un loop\n",
    "\n",
    "while True:\n",
    "  line = input('> ')\n",
    "  if line == 'done' :\n",
    "    break\n",
    "  print(line)\n",
    "print('Fin')"
   ],
   "metadata": {
    "collapsed": false,
    "ExecuteTime": {
     "end_time": "2023-10-19T03:34:01.483138900Z",
     "start_time": "2023-10-19T03:33:47.514768200Z"
    }
   },
   "id": "9fb20f26d0d56f59"
  },
  {
   "cell_type": "code",
   "execution_count": 33,
   "outputs": [
    {
     "name": "stdout",
     "output_type": "stream",
     "text": [
      "hola\n",
      "mateo\n",
      "hola\n",
      "Fin\n"
     ]
    }
   ],
   "source": [
    "## terminar una iteración con continue\n",
    "\n",
    "while True:\n",
    "  line = input('> ')\n",
    "  if line[0] == '#' :\n",
    "    continue\n",
    "  if line == 'done':\n",
    "    break\n",
    "  print(line)\n",
    "print('Fin')"
   ],
   "metadata": {
    "collapsed": false,
    "ExecuteTime": {
     "end_time": "2023-10-19T03:38:38.454749500Z",
     "start_time": "2023-10-19T03:38:28.894615Z"
    }
   },
   "id": "20bcb2b3657b6be7"
  },
  {
   "cell_type": "markdown",
   "source": [
    "## Bucles definidos\n",
    "\n",
    "- Son finitos, para esto se usa la palabra `for`"
   ],
   "metadata": {
    "collapsed": false
   },
   "id": "d93514b3dfa2327d"
  },
  {
   "cell_type": "code",
   "execution_count": 34,
   "outputs": [
    {
     "name": "stdout",
     "output_type": "stream",
     "text": [
      "5\n",
      "4\n",
      "3\n",
      "2\n",
      "1\n",
      "Fin\n"
     ]
    }
   ],
   "source": [
    "for i in [5, 4, 3, 2, 1]:\n",
    "  print(i)\n",
    "print('Fin')"
   ],
   "metadata": {
    "collapsed": false,
    "ExecuteTime": {
     "end_time": "2023-10-19T03:42:14.224026900Z",
     "start_time": "2023-10-19T03:42:14.216554700Z"
    }
   },
   "id": "53d349af9bc1f0c1"
  },
  {
   "cell_type": "code",
   "execution_count": 35,
   "outputs": [
    {
     "name": "stdout",
     "output_type": "stream",
     "text": [
      "Feliz año nuevo Mateo\n",
      "Feliz año nuevo Cristian\n",
      "Feliz año nuevo Sebastian\n",
      "Fin\n"
     ]
    }
   ],
   "source": [
    "friends = ['Mateo', 'Cristian', 'Sebastian']\n",
    "for friends in friends:\n",
    "  print('Feliz año nuevo', friends)\n",
    "print('Fin')"
   ],
   "metadata": {
    "collapsed": false,
    "ExecuteTime": {
     "end_time": "2023-10-19T03:44:45.080294Z",
     "start_time": "2023-10-19T03:44:45.071878300Z"
    }
   },
   "id": "7b25b81c0bc2742e"
  },
  {
   "cell_type": "markdown",
   "source": [
    "## Hacer bucles inteligentes"
   ],
   "metadata": {
    "collapsed": false
   },
   "id": "206b5761fd1e8e7e"
  },
  {
   "cell_type": "code",
   "execution_count": 1,
   "outputs": [
    {
     "name": "stdout",
     "output_type": "stream",
     "text": [
      "antes\n",
      "9\n",
      "41\n",
      "12\n",
      "3\n",
      "74\n",
      "15\n",
      "despues\n"
     ]
    }
   ],
   "source": [
    "print('antes')\n",
    "for thing in [9, 41, 12, 3, 74, 15]:\n",
    "  print(thing)\n",
    "print('despues')"
   ],
   "metadata": {
    "collapsed": false,
    "ExecuteTime": {
     "end_time": "2023-10-20T03:55:43.454258200Z",
     "start_time": "2023-10-20T03:55:43.445054400Z"
    }
   },
   "id": "4d8cc0bc2cbd3104"
  },
  {
   "cell_type": "markdown",
   "source": [
    "## Encontrar el valor más grande"
   ],
   "metadata": {
    "collapsed": false
   },
   "id": "bf4eff9b8494d5af"
  },
  {
   "cell_type": "code",
   "execution_count": 2,
   "outputs": [
    {
     "name": "stdout",
     "output_type": "stream",
     "text": [
      "Antes -1\n",
      "Mas grande 9\n",
      "Mas grande 41\n",
      "Mas grande 41\n",
      "Mas grande 41\n",
      "Mas grande 74\n",
      "Mas grande 74\n",
      "Despues 74\n"
     ]
    }
   ],
   "source": [
    "mas_grande = -1\n",
    "print('Antes', mas_grande)\n",
    "for num in [9, 41, 12, 3, 74, 15]:\n",
    "  if num > mas_grande:\n",
    "    mas_grande = num\n",
    "  print('Mas grande', mas_grande)\n",
    "\n",
    "print('Despues', mas_grande)"
   ],
   "metadata": {
    "collapsed": false,
    "ExecuteTime": {
     "end_time": "2023-10-20T04:00:53.127431400Z",
     "start_time": "2023-10-20T04:00:53.115849600Z"
    }
   },
   "id": "c9a3228ef158767b"
  },
  {
   "cell_type": "markdown",
   "source": [
    "## Contar en un bucle\n",
    "\n",
    "Introducimos una variable de conteo que incremente en cada bucle"
   ],
   "metadata": {
    "collapsed": false
   },
   "id": "ef7cddfec73d6bb2"
  },
  {
   "cell_type": "code",
   "execution_count": 4,
   "outputs": [
    {
     "name": "stdout",
     "output_type": "stream",
     "text": [
      "Antes 0\n",
      "9 1\n",
      "41 2\n",
      "12 3\n",
      "3 4\n",
      "74 5\n",
      "15 6\n",
      "Despues 6\n"
     ]
    }
   ],
   "source": [
    "count = 0\n",
    "print('Antes', count)\n",
    "for num in [9, 41, 12, 3, 74, 15]:\n",
    "  count = count + 1\n",
    "  print(num, count)\n",
    "print('Después', count)"
   ],
   "metadata": {
    "collapsed": false,
    "ExecuteTime": {
     "end_time": "2023-10-20T04:04:42.394256800Z",
     "start_time": "2023-10-20T04:04:42.339774200Z"
    }
   },
   "id": "c97d57ff617055d4"
  },
  {
   "cell_type": "code",
   "execution_count": 5,
   "outputs": [
    {
     "name": "stdout",
     "output_type": "stream",
     "text": [
      "Antes 0\n",
      "9 9\n",
      "41 50\n",
      "12 62\n",
      "3 65\n",
      "74 139\n",
      "15 154\n",
      "Después 154\n"
     ]
    }
   ],
   "source": [
    "count = 0\n",
    "print('Antes', count)\n",
    "for num in [9, 41, 12, 3, 74, 15]:\n",
    "  count = count + num\n",
    "  print(num, count)\n",
    "print('Después', count)"
   ],
   "metadata": {
    "collapsed": false,
    "ExecuteTime": {
     "end_time": "2023-10-20T04:05:29.414371500Z",
     "start_time": "2023-10-20T04:05:29.406742100Z"
    }
   },
   "id": "924e8730d4f2a44a"
  },
  {
   "cell_type": "code",
   "execution_count": 6,
   "outputs": [
    {
     "name": "stdout",
     "output_type": "stream",
     "text": [
      "Antes 0\n",
      "9 1 9\n",
      "41 2 50\n",
      "12 3 62\n",
      "3 4 65\n",
      "74 5 139\n",
      "15 6 154\n",
      "Después 25.666666666666668\n"
     ]
    }
   ],
   "source": [
    "count = 0\n",
    "sum = 0\n",
    "print('Antes', count)\n",
    "for num in [9, 41, 12, 3, 74, 15]:\n",
    "  count = count + 1\n",
    "  sum = sum + num\n",
    "  print(num, count, sum)\n",
    "print('Después', sum / count)"
   ],
   "metadata": {
    "collapsed": false,
    "ExecuteTime": {
     "end_time": "2023-10-20T04:07:28.220953100Z",
     "start_time": "2023-10-20T04:07:28.207401200Z"
    }
   },
   "id": "b6f0f74d4ed83cf4"
  },
  {
   "cell_type": "code",
   "execution_count": 7,
   "outputs": [
    {
     "name": "stdout",
     "output_type": "stream",
     "text": [
      "Antes\n",
      "Numero grande 41\n",
      "Numero grande 74\n",
      "Despues\n"
     ]
    }
   ],
   "source": [
    "print('Antes')\n",
    "for value in [9, 41, 12, 3, 74, 15]:\n",
    "  if value > 20:\n",
    "    print('Numero grande', value)\n",
    "print('Despues')"
   ],
   "metadata": {
    "collapsed": false,
    "ExecuteTime": {
     "end_time": "2023-10-20T04:09:08.705130400Z",
     "start_time": "2023-10-20T04:09:08.699500600Z"
    }
   },
   "id": "83d51c88068b5506"
  },
  {
   "cell_type": "code",
   "execution_count": 9,
   "outputs": [
    {
     "name": "stdout",
     "output_type": "stream",
     "text": [
      "Antes\n",
      "False 9\n",
      "False 41\n",
      "False 12\n",
      "True 3\n",
      "True 74\n",
      "True 15\n",
      "Despues True\n"
     ]
    }
   ],
   "source": [
    "## Busqueda usando una variable booleana\n",
    "\n",
    "found = False\n",
    "print('Antes')\n",
    "for value in [9, 41, 12, 3, 74, 15]:\n",
    "  if value == 3:\n",
    "    found = True\n",
    "  print(found, value)  \n",
    "print('Despues', found)"
   ],
   "metadata": {
    "collapsed": false,
    "ExecuteTime": {
     "end_time": "2023-10-20T04:11:19.665612100Z",
     "start_time": "2023-10-20T04:11:19.651436200Z"
    }
   },
   "id": "262c9e01dddbebb"
  },
  {
   "cell_type": "code",
   "execution_count": 15,
   "outputs": [
    {
     "name": "stdout",
     "output_type": "stream",
     "text": [
      "Antes None\n",
      "Mas pequeño 9\n",
      "Mas pequeño 9\n",
      "Mas pequeño 9\n",
      "Mas pequeño 3\n",
      "Mas pequeño 3\n",
      "Mas pequeño 3\n",
      "Despues 3\n"
     ]
    }
   ],
   "source": [
    "## el valor mas pequeño\n",
    "\n",
    "mas_pequeno = None                       ### flag value, para correr el primer bucle\n",
    "print('Antes', mas_pequeno)\n",
    "for num in [9, 41, 12, 3, 74, 15]:\n",
    "  if mas_pequeno is None:\n",
    "    mas_pequeno = num\n",
    "  elif num < mas_pequeno:\n",
    "    mas_pequeno = num\n",
    "  print('Mas pequeño', mas_pequeno)\n",
    "\n",
    "print('Después', mas_pequeno)"
   ],
   "metadata": {
    "collapsed": false,
    "ExecuteTime": {
     "end_time": "2023-10-20T04:19:50.537852900Z",
     "start_time": "2023-10-20T04:19:50.531492200Z"
    }
   },
   "id": "c6925da7d9d75fc2"
  },
  {
   "cell_type": "markdown",
   "source": [
    "`is`, `is not`, también son operadores booleanos, es una igualdad más fuerte que `==`.\n"
   ],
   "metadata": {
    "collapsed": false
   },
   "id": "a5d623e27e3732c9"
  }
 ],
 "metadata": {
  "kernelspec": {
   "display_name": "Python 3",
   "language": "python",
   "name": "python3"
  },
  "language_info": {
   "codemirror_mode": {
    "name": "ipython",
    "version": 2
   },
   "file_extension": ".py",
   "mimetype": "text/x-python",
   "name": "python",
   "nbconvert_exporter": "python",
   "pygments_lexer": "ipython2",
   "version": "2.7.6"
  }
 },
 "nbformat": 4,
 "nbformat_minor": 5
}
