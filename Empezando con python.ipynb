{
 "cells": [
  {
   "cell_type": "markdown",
   "source": [
    "## Tipos de datos en Python\n",
    "\n",
    "### Constantes\n",
    "\n",
    "son valores fijos, pueden ser numeros, letras, etc\n",
    "\n",
    "### Palabras reservadas\n",
    "\n",
    "No se pueden usar como nombres de variables.\n",
    "\n",
    "### Nombres de variables\n",
    "\n",
    "Una variable es un lugar nombrado en la memoria donde un programador puede guardar datos y después usarlos, usando el 'nombre' de la variable.\n",
    "\n",
    "Debe empezar con una letra o barra al piso _ (mejor con una letra).\n",
    "\n",
    "Debe consistir de letras, numberos y barras al piso.\n",
    "\n",
    "Sensible a mayusculas.\n",
    "\n",
    "### Sentencias o lineas"
   ],
   "metadata": {
    "collapsed": false
   },
   "id": "c543a0c98a978c9"
  },
  {
   "cell_type": "code",
   "execution_count": 1,
   "outputs": [
    {
     "name": "stdout",
     "output_type": "stream",
     "text": [
      "4\n"
     ]
    }
   ],
   "source": [
    "x = 2       # statement de asignación\n",
    "x = x + 2   # Asignación con una expresión\n",
    "print(x)    # Print statement"
   ],
   "metadata": {
    "collapsed": false,
    "ExecuteTime": {
     "end_time": "2023-10-18T00:17:04.115524700Z",
     "start_time": "2023-10-18T00:17:04.056234100Z"
    }
   },
   "id": "3d5949303a095f06"
  },
  {
   "cell_type": "markdown",
   "source": [
    "mnemonic: Escoger un nombre de variable que tenga sentido para lo que estámos haciendo."
   ],
   "metadata": {
    "collapsed": false
   },
   "id": "c98cade1d39c7b88"
  },
  {
   "cell_type": "code",
   "execution_count": 2,
   "outputs": [],
   "source": [
    "x = 0.6\n",
    "x = 3.9 * x * (1 - x) # Python primero calcula la expresión a la derecha y luego la asigna a la variable llamada xbbb"
   ],
   "metadata": {
    "collapsed": false,
    "ExecuteTime": {
     "end_time": "2023-10-18T00:17:29.531705900Z",
     "start_time": "2023-10-18T00:17:29.526195100Z"
    }
   },
   "id": "42df3380f2564149"
  },
  {
   "cell_type": "markdown",
   "source": [
    "## Expresiones\n",
    "\n",
    "### Expresiones numéricas\n",
    "\n",
    "- '+' Adición\n",
    "- '-' Resta\n",
    "- '*' Multiplicación\n",
    "- '/' División\n",
    "- '**' Elevar\n",
    "- '%' Resto"
   ],
   "metadata": {
    "collapsed": false
   },
   "id": "9ab69bfc1bc29585"
  },
  {
   "cell_type": "code",
   "execution_count": 3,
   "outputs": [
    {
     "name": "stdout",
     "output_type": "stream",
     "text": [
      "4\n",
      "5280\n",
      "5.28\n",
      "3\n",
      "64\n"
     ]
    }
   ],
   "source": [
    "xx = 2\n",
    "xx = xx + 2\n",
    "print(xx)\n",
    "\n",
    "yy = 440 * 12\n",
    "print(yy)\n",
    "\n",
    "zz = yy / 1000\n",
    "print(zz)\n",
    "\n",
    "jj = 23\n",
    "kk = jj % 5\n",
    "print(kk)\n",
    "\n",
    "print(4 ** 3)"
   ],
   "metadata": {
    "collapsed": false,
    "ExecuteTime": {
     "end_time": "2023-10-18T00:18:20.117354600Z",
     "start_time": "2023-10-18T00:18:20.110290400Z"
    }
   },
   "id": "8a421ce3857feef6"
  },
  {
   "cell_type": "markdown",
   "source": [
    "### Orden de los operadores"
   ],
   "metadata": {
    "collapsed": false
   },
   "id": "9e53d53a41778db6"
  },
  {
   "cell_type": "code",
   "execution_count": 4,
   "outputs": [],
   "source": [
    "x = 1 + 2 * 3 - 4 / 5 ** 6\n",
    "xx = 1 + (2 * 3) - (4 / 5 ** 6)"
   ],
   "metadata": {
    "collapsed": false,
    "ExecuteTime": {
     "end_time": "2023-10-18T00:18:40.179792300Z",
     "start_time": "2023-10-18T00:18:40.138895800Z"
    }
   },
   "id": "2f9e1b5ed8c32ce0"
  },
  {
   "cell_type": "markdown",
   "source": [
    "- Parentesis van primero.\n",
    "- Exponenciación.\n",
    "- Multipliación, división o resto.\n",
    "- Adición y resta.\n",
    "- De izquierda a derecha."
   ],
   "metadata": {
    "collapsed": false
   },
   "id": "f3dcd6d9547907d4"
  },
  {
   "cell_type": "code",
   "execution_count": 5,
   "outputs": [
    {
     "name": "stdout",
     "output_type": "stream",
     "text": [
      "11.0\n",
      "11.0\n"
     ]
    }
   ],
   "source": [
    "x = 1 + 2 ** 3 / 4 * 5\n",
    "print(x)\n",
    "x = 1 + (((2 ** 3) / 4) * 5)\n",
    "print(x)"
   ],
   "metadata": {
    "collapsed": false,
    "ExecuteTime": {
     "end_time": "2023-10-18T00:18:56.233530600Z",
     "start_time": "2023-10-18T00:18:56.228505500Z"
    }
   },
   "id": "4411dbf615b5eedf"
  },
  {
   "cell_type": "markdown",
   "source": [
    "### Tipos de datos\n",
    "\n",
    "- Variables, literales y las constantes tiene 'tipo'.\n",
    "- Python sabe el tipo de cualquier cosa.\n",
    "- Algunas operaciones están prohibidas.\n",
    "- Se pueden saber los tipos con la función `type()`"
   ],
   "metadata": {
    "collapsed": false
   },
   "id": "da793b96c262c56"
  },
  {
   "cell_type": "code",
   "execution_count": 6,
   "outputs": [
    {
     "name": "stdout",
     "output_type": "stream",
     "text": [
      "hellothere\n"
     ]
    },
    {
     "ename": "TypeError",
     "evalue": "can only concatenate str (not \"int\") to str",
     "output_type": "error",
     "traceback": [
      "\u001B[1;31m---------------------------------------------------------------------------\u001B[0m",
      "\u001B[1;31mTypeError\u001B[0m                                 Traceback (most recent call last)",
      "Cell \u001B[1;32mIn[6], line 3\u001B[0m\n\u001B[0;32m      1\u001B[0m eee \u001B[38;5;241m=\u001B[39m \u001B[38;5;124m'\u001B[39m\u001B[38;5;124mhello\u001B[39m\u001B[38;5;124m'\u001B[39m \u001B[38;5;241m+\u001B[39m \u001B[38;5;124m'\u001B[39m\u001B[38;5;124mthere\u001B[39m\u001B[38;5;124m'\u001B[39m\n\u001B[0;32m      2\u001B[0m \u001B[38;5;28mprint\u001B[39m(eee)\n\u001B[1;32m----> 3\u001B[0m eee \u001B[38;5;241m=\u001B[39m eee \u001B[38;5;241m+\u001B[39m \u001B[38;5;241m1\u001B[39m\n",
      "\u001B[1;31mTypeError\u001B[0m: can only concatenate str (not \"int\") to str"
     ]
    }
   ],
   "source": [
    "eee = 'hello' + 'there'\n",
    "print(eee)\n",
    "eee = eee + 1"
   ],
   "metadata": {
    "collapsed": false,
    "ExecuteTime": {
     "end_time": "2023-10-18T00:19:13.196471900Z",
     "start_time": "2023-10-18T00:19:12.659899Z"
    }
   },
   "id": "9a6998638591c7ac"
  },
  {
   "cell_type": "code",
   "execution_count": 7,
   "outputs": [
    {
     "name": "stdout",
     "output_type": "stream",
     "text": [
      "<class 'str'>\n",
      "<class 'int'>\n"
     ]
    }
   ],
   "source": [
    "print(type(eee))\n",
    "print(type(1))"
   ],
   "metadata": {
    "collapsed": false,
    "ExecuteTime": {
     "end_time": "2023-10-18T00:19:22.377741800Z",
     "start_time": "2023-10-18T00:19:22.372229Z"
    }
   },
   "id": "bde4ddbe9bda50d1"
  },
  {
   "cell_type": "code",
   "execution_count": 8,
   "outputs": [
    {
     "name": "stdout",
     "output_type": "stream",
     "text": [
      "<class 'int'>\n",
      "<class 'float'>\n"
     ]
    }
   ],
   "source": [
    "xx = 1\n",
    "print(type(xx))\n",
    "temp = 98.6\n",
    "print(type(temp)) # menos perfectos"
   ],
   "metadata": {
    "collapsed": false,
    "ExecuteTime": {
     "end_time": "2023-10-18T00:19:36.258931900Z",
     "start_time": "2023-10-18T00:19:36.252425Z"
    }
   },
   "id": "1a3f5d2637042663"
  },
  {
   "cell_type": "code",
   "execution_count": 9,
   "outputs": [
    {
     "name": "stdout",
     "output_type": "stream",
     "text": [
      "199.0\n"
     ]
    }
   ],
   "source": [
    "print(float(99) + 100) # 99.0 y 99 no son iguales"
   ],
   "metadata": {
    "collapsed": false,
    "ExecuteTime": {
     "end_time": "2023-10-18T00:19:58.435810600Z",
     "start_time": "2023-10-18T00:19:58.430409Z"
    }
   },
   "id": "cd8a5f14ee923608"
  },
  {
   "cell_type": "code",
   "execution_count": 10,
   "outputs": [
    {
     "name": "stdout",
     "output_type": "stream",
     "text": [
      "<class 'int'>\n",
      "42.0\n",
      "<class 'float'>\n"
     ]
    }
   ],
   "source": [
    "i = 42\n",
    "print(type(42))\n",
    "f = float(i)\n",
    "print(f)\n",
    "print(type(f))"
   ],
   "metadata": {
    "collapsed": false,
    "ExecuteTime": {
     "end_time": "2023-10-18T00:20:10.595268400Z",
     "start_time": "2023-10-18T00:20:10.591281400Z"
    }
   },
   "id": "9c701305e5485e0f"
  },
  {
   "cell_type": "code",
   "execution_count": 11,
   "outputs": [
    {
     "name": "stdout",
     "output_type": "stream",
     "text": [
      "5.0\n",
      "4.5\n",
      "0.99\n"
     ]
    }
   ],
   "source": [
    "# división de enteros\n",
    "# la división de enteros produce un resultado float\n",
    "\n",
    "print(10 / 2)\n",
    "print(9 / 2)\n",
    "print(99 / 100)"
   ],
   "metadata": {
    "collapsed": false,
    "ExecuteTime": {
     "end_time": "2023-10-18T00:20:18.558387900Z",
     "start_time": "2023-10-18T00:20:18.553876500Z"
    }
   },
   "id": "923e888746f0b53"
  },
  {
   "cell_type": "code",
   "execution_count": 12,
   "outputs": [
    {
     "name": "stdout",
     "output_type": "stream",
     "text": [
      "<class 'str'>\n"
     ]
    },
    {
     "ename": "TypeError",
     "evalue": "can only concatenate str (not \"int\") to str",
     "output_type": "error",
     "traceback": [
      "\u001B[1;31m---------------------------------------------------------------------------\u001B[0m",
      "\u001B[1;31mTypeError\u001B[0m                                 Traceback (most recent call last)",
      "Cell \u001B[1;32mIn[12], line 5\u001B[0m\n\u001B[0;32m      3\u001B[0m sval \u001B[38;5;241m=\u001B[39m \u001B[38;5;124m'\u001B[39m\u001B[38;5;124m123\u001B[39m\u001B[38;5;124m'\u001B[39m\n\u001B[0;32m      4\u001B[0m \u001B[38;5;28mprint\u001B[39m(\u001B[38;5;28mtype\u001B[39m(sval))\n\u001B[1;32m----> 5\u001B[0m \u001B[38;5;28mprint\u001B[39m(sval \u001B[38;5;241m+\u001B[39m \u001B[38;5;241m1\u001B[39m)\n",
      "\u001B[1;31mTypeError\u001B[0m: can only concatenate str (not \"int\") to str"
     ]
    }
   ],
   "source": [
    "# Conversión de cadenas\n",
    "\n",
    "sval = '123'\n",
    "print(type(sval))\n",
    "print(sval + 1)  # no se pueden operar cadenas y numeros"
   ],
   "metadata": {
    "collapsed": false,
    "ExecuteTime": {
     "end_time": "2023-10-18T00:20:29.885880800Z",
     "start_time": "2023-10-18T00:20:29.873118Z"
    }
   },
   "id": "de7f5e48107f7ccc"
  },
  {
   "cell_type": "code",
   "execution_count": 13,
   "outputs": [
    {
     "name": "stdout",
     "output_type": "stream",
     "text": [
      "<class 'int'>\n",
      "124\n"
     ]
    }
   ],
   "source": [
    "ival = int(sval)\n",
    "print(type(ival)) # python puede convertir la cadena a numeros si esta es de solo numeros\n",
    "print(ival + 1)"
   ],
   "metadata": {
    "collapsed": false,
    "ExecuteTime": {
     "end_time": "2023-10-18T00:20:39.376561300Z",
     "start_time": "2023-10-18T00:20:39.371734Z"
    }
   },
   "id": "a269314eaeab24ee"
  },
  {
   "cell_type": "code",
   "execution_count": 14,
   "outputs": [
    {
     "ename": "ValueError",
     "evalue": "invalid literal for int() with base 10: 'hola'",
     "output_type": "error",
     "traceback": [
      "\u001B[1;31m---------------------------------------------------------------------------\u001B[0m",
      "\u001B[1;31mValueError\u001B[0m                                Traceback (most recent call last)",
      "Cell \u001B[1;32mIn[14], line 2\u001B[0m\n\u001B[0;32m      1\u001B[0m nsv \u001B[38;5;241m=\u001B[39m \u001B[38;5;124m'\u001B[39m\u001B[38;5;124mhola\u001B[39m\u001B[38;5;124m'\u001B[39m\n\u001B[1;32m----> 2\u001B[0m \u001B[38;5;28mint\u001B[39m(nsv)\n",
      "\u001B[1;31mValueError\u001B[0m: invalid literal for int() with base 10: 'hola'"
     ]
    }
   ],
   "source": [
    "nsv = 'hola'\n",
    "int(nsv)"
   ],
   "metadata": {
    "collapsed": false,
    "ExecuteTime": {
     "end_time": "2023-10-18T00:20:48.663373400Z",
     "start_time": "2023-10-18T00:20:48.651682300Z"
    }
   },
   "id": "189fe567fda6ce4c"
  },
  {
   "cell_type": "markdown",
   "source": [
    "### Función input\n",
    "\n",
    "- Obliga a python a pausar y leer datos del usuario usando la función `input()`.\n",
    "\n",
    "- La función `input()` devuelve una cadena."
   ],
   "metadata": {
    "collapsed": false
   },
   "id": "a10410479152a27e"
  },
  {
   "cell_type": "code",
   "execution_count": 15,
   "outputs": [
    {
     "name": "stdout",
     "output_type": "stream",
     "text": [
      "Bienvenido Mateo\n"
     ]
    }
   ],
   "source": [
    "nam = input('Quien eres? ')\n",
    "print('Bienvenido', nam) # la coma añade un espacio en print"
   ],
   "metadata": {
    "collapsed": false,
    "ExecuteTime": {
     "end_time": "2023-10-18T00:21:11.219653300Z",
     "start_time": "2023-10-18T00:21:05.832551800Z"
    }
   },
   "id": "d7f70e60efc71561"
  },
  {
   "cell_type": "markdown",
   "source": [
    "### Documentación\n",
    "\n",
    "#### Comentarios:\n",
    "\n",
    "- Cualquier cosa después de #.\n",
    "- Describe que esta pasando.\n",
    "- Documentar cosas importantes del código.\n",
    "- Apagar una linea de código."
   ],
   "metadata": {
    "collapsed": false
   },
   "id": "6c01c15d0e9a228c"
  },
  {
   "cell_type": "code",
   "execution_count": 17,
   "outputs": [
    {
     "ename": "FileNotFoundError",
     "evalue": "[Errno 2] No such file or directory: ''",
     "output_type": "error",
     "traceback": [
      "\u001B[1;31m---------------------------------------------------------------------------\u001B[0m",
      "\u001B[1;31mFileNotFoundError\u001B[0m                         Traceback (most recent call last)",
      "Cell \u001B[1;32mIn[17], line 4\u001B[0m\n\u001B[0;32m      1\u001B[0m \u001B[38;5;66;03m# obtener el nombre del archivo y abrirlo\u001B[39;00m\n\u001B[0;32m      3\u001B[0m name \u001B[38;5;241m=\u001B[39m \u001B[38;5;28minput\u001B[39m(\u001B[38;5;124m'\u001B[39m\u001B[38;5;124mEntre el archivo: \u001B[39m\u001B[38;5;124m'\u001B[39m)\n\u001B[1;32m----> 4\u001B[0m handle \u001B[38;5;241m=\u001B[39m \u001B[38;5;28mopen\u001B[39m(name, \u001B[38;5;124m'\u001B[39m\u001B[38;5;124mr\u001B[39m\u001B[38;5;124m'\u001B[39m)\n\u001B[0;32m      6\u001B[0m \u001B[38;5;66;03m# Contar la frecuencia de las palabras\u001B[39;00m\n\u001B[0;32m      8\u001B[0m counts \u001B[38;5;241m=\u001B[39m \u001B[38;5;28mdict\u001B[39m()\n",
      "File \u001B[1;32m~\\anaconda3\\Lib\\site-packages\\IPython\\core\\interactiveshell.py:286\u001B[0m, in \u001B[0;36m_modified_open\u001B[1;34m(file, *args, **kwargs)\u001B[0m\n\u001B[0;32m    279\u001B[0m \u001B[38;5;28;01mif\u001B[39;00m file \u001B[38;5;129;01min\u001B[39;00m {\u001B[38;5;241m0\u001B[39m, \u001B[38;5;241m1\u001B[39m, \u001B[38;5;241m2\u001B[39m}:\n\u001B[0;32m    280\u001B[0m     \u001B[38;5;28;01mraise\u001B[39;00m \u001B[38;5;167;01mValueError\u001B[39;00m(\n\u001B[0;32m    281\u001B[0m         \u001B[38;5;124mf\u001B[39m\u001B[38;5;124m\"\u001B[39m\u001B[38;5;124mIPython won\u001B[39m\u001B[38;5;124m'\u001B[39m\u001B[38;5;124mt let you open fd=\u001B[39m\u001B[38;5;132;01m{\u001B[39;00mfile\u001B[38;5;132;01m}\u001B[39;00m\u001B[38;5;124m by default \u001B[39m\u001B[38;5;124m\"\u001B[39m\n\u001B[0;32m    282\u001B[0m         \u001B[38;5;124m\"\u001B[39m\u001B[38;5;124mas it is likely to crash IPython. If you know what you are doing, \u001B[39m\u001B[38;5;124m\"\u001B[39m\n\u001B[0;32m    283\u001B[0m         \u001B[38;5;124m\"\u001B[39m\u001B[38;5;124myou can use builtins\u001B[39m\u001B[38;5;124m'\u001B[39m\u001B[38;5;124m open.\u001B[39m\u001B[38;5;124m\"\u001B[39m\n\u001B[0;32m    284\u001B[0m     )\n\u001B[1;32m--> 286\u001B[0m \u001B[38;5;28;01mreturn\u001B[39;00m io_open(file, \u001B[38;5;241m*\u001B[39margs, \u001B[38;5;241m*\u001B[39m\u001B[38;5;241m*\u001B[39mkwargs)\n",
      "\u001B[1;31mFileNotFoundError\u001B[0m: [Errno 2] No such file or directory: ''"
     ]
    }
   ],
   "source": [
    "# obtener el nombre del archivo y abrirlo\n",
    "\n",
    "name = input('Entre el archivo: ')\n",
    "handle = open(name, 'r')\n",
    "\n",
    "# Contar la frecuencia de las palabras\n",
    "\n",
    "counts = dict()\n",
    "for line in handle:\n",
    "  words = line.split()\n",
    "  for word in words:\n",
    "    counts[word] = counts.get(word, 0) + 1\n",
    "\n",
    "# Encontrar la palabra más común\n",
    "\n",
    "bigcount = None\n",
    "bigword = None\n",
    "for word, count in counts.items():\n",
    "  if bigcount is None or count > bigcount:\n",
    "    bigword = word\n",
    "    bigcount = count\n",
    "\n",
    "# Finalizado\n",
    "\n",
    "print(bigword, bigcount)"
   ],
   "metadata": {
    "collapsed": false,
    "ExecuteTime": {
     "end_time": "2023-10-18T00:21:36.655888600Z",
     "start_time": "2023-10-18T00:21:34.460244Z"
    }
   },
   "id": "3e15645438b1339"
  },
  {
   "cell_type": "code",
   "execution_count": 18,
   "outputs": [
    {
     "name": "stdout",
     "output_type": "stream",
     "text": [
      "Piso de USA 2\n"
     ]
    }
   ],
   "source": [
    "# convertir inputs del usuario\n",
    "\n",
    "# convertir pisos de elevador, en usa el piso 1 sería el piso 0 en europa.\n",
    "\n",
    "inp = input('Piso de Europa? ')\n",
    "usf = int(inp) + 1\n",
    "print('Piso de USA', usf)"
   ],
   "metadata": {
    "collapsed": false,
    "ExecuteTime": {
     "end_time": "2023-10-18T00:21:48.638890200Z",
     "start_time": "2023-10-18T00:21:46.705867800Z"
    }
   },
   "id": "43239fce39fc8598"
  },
  {
   "cell_type": "markdown",
   "source": [
    "## declaraciones condicionales"
   ],
   "metadata": {
    "collapsed": false
   },
   "id": "26f9ed80fbc8d829"
  },
  {
   "cell_type": "code",
   "execution_count": 19,
   "outputs": [
    {
     "name": "stdout",
     "output_type": "stream",
     "text": [
      "Pequeño\n",
      "Fin\n"
     ]
    }
   ],
   "source": [
    "x = 5\n",
    "if x < 10:\n",
    "  print('Pequeño')\n",
    "if x > 20:\n",
    "  print('Grande')\n",
    "\n",
    "print('Fin')"
   ],
   "metadata": {
    "collapsed": false,
    "ExecuteTime": {
     "end_time": "2023-10-18T00:22:05.940432100Z",
     "start_time": "2023-10-18T00:22:05.934916400Z"
    }
   },
   "id": "3c418a4f7fe76659"
  },
  {
   "cell_type": "code",
   "execution_count": 20,
   "outputs": [
    {
     "name": "stdout",
     "output_type": "stream",
     "text": [
      "Igual a 5\n",
      "Mayor a 4\n",
      "Menor a 6\n",
      "Menor o igual a 5\n",
      "Diferente a 6\n"
     ]
    }
   ],
   "source": [
    "x = 5\n",
    "if x == 5:\n",
    "  print('Igual a 5') # la identación es importante\n",
    "if x > 4:\n",
    "  print('Mayor a 4')\n",
    "if x < 6:\n",
    "  print('Menor a 6')\n",
    "if x <= 5:\n",
    "  print('Menor o igual a 5')\n",
    "if x != 6:\n",
    "  print('Diferente a 6')"
   ],
   "metadata": {
    "collapsed": false,
    "ExecuteTime": {
     "end_time": "2023-10-18T00:22:13.983605500Z",
     "start_time": "2023-10-18T00:22:13.977502100Z"
    }
   },
   "id": "1be45ce813a8b52e"
  },
  {
   "cell_type": "markdown",
   "source": [],
   "metadata": {
    "collapsed": false
   },
   "id": "112ac5ac6444e527"
  },
  {
   "cell_type": "code",
   "execution_count": 21,
   "outputs": [
    {
     "name": "stdout",
     "output_type": "stream",
     "text": [
      "Antes de 5\n",
      "Es 5\n",
      "Todavia es 5\n",
      "Tercer 5\n",
      "Despues de 5\n",
      "Antes de 6\n"
     ]
    }
   ],
   "source": [
    "x == 5\n",
    "print('Antes de 5')\n",
    "if x == 5:\n",
    "  print('Es 5')\n",
    "  print('Todavia es 5')\n",
    "  print('Tercer 5')      # la identación marca donde termina el if\n",
    "print('Despues de 5')\n",
    "print('Antes de 6')\n",
    "if x == 6:\n",
    "  print('Es 6')\n",
    "  print('Todavia es 6')\n",
    "  print('Tercer 6')       # Para la identación es mejor usar tab, poner 4 espacios puede dar problemas en python\n",
    "                          # combinar tabs y espacios individuales puede llevar a errores"
   ],
   "metadata": {
    "collapsed": false,
    "ExecuteTime": {
     "end_time": "2023-10-18T00:22:22.973575900Z",
     "start_time": "2023-10-18T00:22:22.967012700Z"
    }
   },
   "id": "5ec5e95a8169246d"
  },
  {
   "cell_type": "code",
   "execution_count": 22,
   "outputs": [
    {
     "name": "stdout",
     "output_type": "stream",
     "text": [
      "Mayor que 1\n",
      "Menor que 100\n",
      "Fin\n"
     ]
    }
   ],
   "source": [
    "x = 42\n",
    "if x > 1:\n",
    "  print('Mayor que 1')\n",
    "  if x < 100:\n",
    "    print('Menor que 100')\n",
    "print('Fin')"
   ],
   "metadata": {
    "collapsed": false,
    "ExecuteTime": {
     "end_time": "2023-10-18T00:22:30.929523600Z",
     "start_time": "2023-10-18T00:22:30.923301100Z"
    }
   },
   "id": "a15b08808eea0d3"
  },
  {
   "cell_type": "code",
   "execution_count": 23,
   "outputs": [
    {
     "name": "stdout",
     "output_type": "stream",
     "text": [
      "Mayor\n",
      "Fin\n"
     ]
    }
   ],
   "source": [
    "# decisiones de dos opciones\n",
    "\n",
    "x = 4\n",
    "\n",
    "if x > 2:\n",
    "  print('Mayor')\n",
    "else:                  # se usa else (palabra reservada), se quita la identación del primer if y luego se abre otra identacion\n",
    "  print('Menor')\n",
    "\n",
    "print('Fin')"
   ],
   "metadata": {
    "collapsed": false,
    "ExecuteTime": {
     "end_time": "2023-10-18T00:22:37.458574200Z",
     "start_time": "2023-10-18T00:22:37.451986300Z"
    }
   },
   "id": "3fde457e130ccc48"
  },
  {
   "cell_type": "markdown",
   "source": [
    "## Mas declaraciones condicionales"
   ],
   "metadata": {
    "collapsed": false
   },
   "id": "826cd53d4c875e7e"
  },
  {
   "cell_type": "code",
   "execution_count": 24,
   "outputs": [
    {
     "name": "stdout",
     "output_type": "stream",
     "text": [
      "Pequeño\n",
      "Fin\n"
     ]
    }
   ],
   "source": [
    "x = 0\n",
    "\n",
    "if x < 2:              # como c = 0, solo verfica este y salta al final.\n",
    "  print('Pequeño')\n",
    "elif x < 10:           # elif depende de que el if anterior sea falso\n",
    "  print('Mediano')     # se pueden tener tantos elif como uno quiera\n",
    "else:                  # else igual\n",
    "  print('Grande')      # solo corre uno de los tres.\n",
    "print('Fin')"
   ],
   "metadata": {
    "collapsed": false,
    "ExecuteTime": {
     "end_time": "2023-10-18T00:22:54.712342900Z",
     "start_time": "2023-10-18T00:22:54.705327700Z"
    }
   },
   "id": "e275429e8e35af7e"
  },
  {
   "cell_type": "code",
   "execution_count": 25,
   "outputs": [
    {
     "name": "stdout",
     "output_type": "stream",
     "text": [
      "Fin\n"
     ]
    }
   ],
   "source": [
    "# sin else\n",
    "x = 50\n",
    "\n",
    "if x < 2:\n",
    "  print('Pequeño')\n",
    "elif x < 10:\n",
    "  print('Mediano')\n",
    "\n",
    "print('Fin')"
   ],
   "metadata": {
    "collapsed": false,
    "ExecuteTime": {
     "end_time": "2023-10-18T00:23:01.476998700Z",
     "start_time": "2023-10-18T00:23:01.469980300Z"
    }
   },
   "id": "53ddb21ac934b2cd"
  },
  {
   "cell_type": "code",
   "execution_count": 26,
   "outputs": [
    {
     "name": "stdout",
     "output_type": "stream",
     "text": [
      "2 o mas\n"
     ]
    }
   ],
   "source": [
    "if x < 2:\n",
    "  print('Menor a 2')\n",
    "elif x >= 2:\n",
    "  print('2 o mas')\n",
    "else:\n",
    "  print('Otra cosa')   # en este caso este nunca se ejecutaría ya que los otros dos cubren todas las opciones"
   ],
   "metadata": {
    "collapsed": false,
    "ExecuteTime": {
     "end_time": "2023-10-18T00:23:08.661403400Z",
     "start_time": "2023-10-18T00:23:08.653881700Z"
    }
   },
   "id": "4ee66e37f7762c50"
  },
  {
   "cell_type": "code",
   "execution_count": 27,
   "outputs": [
    {
     "name": "stdout",
     "output_type": "stream",
     "text": [
      "Otra cosa\n"
     ]
    }
   ],
   "source": [
    "if x < 2:\n",
    "  print('Menor a 2')\n",
    "elif x < 20:\n",
    "  print('Menor a 20')\n",
    "elif x < 10:\n",
    "  print('Menor a 10')   # este nunca se ejecuta ya que el anterior también cubre a este\n",
    "else:\n",
    "  print('Otra cosa')"
   ],
   "metadata": {
    "collapsed": false,
    "ExecuteTime": {
     "end_time": "2023-10-18T00:23:15.758218700Z",
     "start_time": "2023-10-18T00:23:15.752711500Z"
    }
   },
   "id": "40bc44dbd90c650c"
  },
  {
   "cell_type": "markdown",
   "source": [
    "## Estructura try / except\n",
    "\n",
    "- Se usa cuando una sección de código no es segura.\n",
    "- Si el `try` funciona el `except` se salta.\n",
    "- Si se `try` falla salta a la sección `except`\n"
   ],
   "metadata": {
    "collapsed": false
   },
   "id": "78fbe4084c34b90a"
  },
  {
   "cell_type": "code",
   "execution_count": 28,
   "outputs": [
    {
     "ename": "ValueError",
     "evalue": "invalid literal for int() with base 10: 'Hola'",
     "output_type": "error",
     "traceback": [
      "\u001B[1;31m---------------------------------------------------------------------------\u001B[0m",
      "\u001B[1;31mValueError\u001B[0m                                Traceback (most recent call last)",
      "Cell \u001B[1;32mIn[28], line 2\u001B[0m\n\u001B[0;32m      1\u001B[0m astr \u001B[38;5;241m=\u001B[39m \u001B[38;5;124m'\u001B[39m\u001B[38;5;124mHola\u001B[39m\u001B[38;5;124m'\u001B[39m\n\u001B[1;32m----> 2\u001B[0m istr \u001B[38;5;241m=\u001B[39m \u001B[38;5;28mint\u001B[39m(astr)        \u001B[38;5;66;03m# el codigo para aquí\u001B[39;00m\n\u001B[0;32m      3\u001B[0m \u001B[38;5;28mprint\u001B[39m(\u001B[38;5;124m'\u001B[39m\u001B[38;5;124mPrimero\u001B[39m\u001B[38;5;124m'\u001B[39m, istr)\n\u001B[0;32m      4\u001B[0m astr \u001B[38;5;241m=\u001B[39m \u001B[38;5;124m'\u001B[39m\u001B[38;5;124m123\u001B[39m\u001B[38;5;124m'\u001B[39m\n",
      "\u001B[1;31mValueError\u001B[0m: invalid literal for int() with base 10: 'Hola'"
     ]
    }
   ],
   "source": [
    "astr = 'Hola'\n",
    "istr = int(astr)        # el codigo para aquí\n",
    "print('Primero', istr)\n",
    "astr = '123'\n",
    "istr = int(astr)\n",
    "print('Segundo', istr)"
   ],
   "metadata": {
    "collapsed": false,
    "ExecuteTime": {
     "end_time": "2023-10-18T00:23:30.622244200Z",
     "start_time": "2023-10-18T00:23:30.604877500Z"
    }
   },
   "id": "9d4930afa7be883d"
  },
  {
   "cell_type": "code",
   "execution_count": 29,
   "outputs": [
    {
     "name": "stdout",
     "output_type": "stream",
     "text": [
      "Primero -1\n",
      "Segundo 123\n"
     ]
    }
   ],
   "source": [
    "astr = 'Hola'\n",
    "try:\n",
    "  istr = int(astr)   # el codigo que creemos puede fallar\n",
    "except:\n",
    "  istr = -1          # cuando el try falla el programa salta a esta linea\n",
    "\n",
    "print('Primero', istr)\n",
    "\n",
    "astr = '123'\n",
    "try:\n",
    "  istr = int(astr)\n",
    "except:               # si el try funciona entonces salta el except\n",
    "  istr = -1\n",
    "\n",
    "print('Segundo', istr)"
   ],
   "metadata": {
    "collapsed": false,
    "ExecuteTime": {
     "end_time": "2023-10-18T00:23:38.444872800Z",
     "start_time": "2023-10-18T00:23:38.439845100Z"
    }
   },
   "id": "6839d9043653093c"
  },
  {
   "cell_type": "code",
   "execution_count": 30,
   "outputs": [
    {
     "name": "stdout",
     "output_type": "stream",
     "text": [
      "Bien hecho\n"
     ]
    }
   ],
   "source": [
    "rawstr = input('Ingrese un numero: ')\n",
    "try:\n",
    "  ival = int(rawstr)\n",
    "except:\n",
    "  ival = -1\n",
    "\n",
    "if ival == -1:\n",
    "  print('No es un número')\n",
    "else:\n",
    "  print('Bien hecho')"
   ],
   "metadata": {
    "collapsed": false,
    "ExecuteTime": {
     "end_time": "2023-10-18T00:23:48.729002600Z",
     "start_time": "2023-10-18T00:23:47.050367500Z"
    }
   },
   "id": "5ef23d06f91d3fc3"
  },
  {
   "cell_type": "code",
   "execution_count": 31,
   "outputs": [
    {
     "name": "stdout",
     "output_type": "stream",
     "text": [
      "5.0 1.75\n",
      "Pago 8.75\n"
     ]
    }
   ],
   "source": [
    "sh = input('Entre las horas trabajadas: ')\n",
    "sr = input('Entre el pago por hora: ')\n",
    "\n",
    "try:\n",
    "  fh = float(sh)\n",
    "  fr = float(sr)\n",
    "except:\n",
    "  print('Error, ingrese valores numéricos')\n",
    "  quit()\n",
    "\n",
    "print(fh, fr)\n",
    "if fh > 40:\n",
    "  reg = fr * fh\n",
    "  otp = (fh - 40.0) * (fr * 0.5)\n",
    "  xp = (reg + otp)\n",
    "else:\n",
    "  xp = fh * fr\n",
    "print('Pago', xp)"
   ],
   "metadata": {
    "collapsed": false,
    "ExecuteTime": {
     "end_time": "2023-10-18T00:24:05.349683300Z",
     "start_time": "2023-10-18T00:24:00.349841300Z"
    }
   },
   "id": "cfae855347582d5e"
  },
  {
   "cell_type": "code",
   "execution_count": 1,
   "outputs": [
    {
     "name": "stdout",
     "output_type": "stream",
     "text": [
      "F\n"
     ]
    }
   ],
   "source": [
    "score = input(\"Enter Score: \")\n",
    "s = float(score)\n",
    "\n",
    "if s > 1 or s < 0:\n",
    "    print('Error')\n",
    "    quit()\n",
    "elif s >= 0.9:\n",
    "    print('A')\n",
    "elif s >= 0.8:\n",
    "    print('B')\n",
    "elif s >= 0.7:\n",
    "    print('C')\n",
    "elif s >= 0.6:\n",
    "    print('D')\n",
    "else:\n",
    "  print('F')"
   ],
   "metadata": {
    "collapsed": false,
    "ExecuteTime": {
     "end_time": "2023-10-18T00:25:37.414630400Z",
     "start_time": "2023-10-18T00:25:34.092749700Z"
    }
   },
   "id": "4e7383237d9978bd"
  },
  {
   "cell_type": "code",
   "execution_count": null,
   "outputs": [],
   "source": [],
   "metadata": {
    "collapsed": false
   },
   "id": "f5666d39e8dddc40"
  }
 ],
 "metadata": {
  "kernelspec": {
   "display_name": "Python 3",
   "language": "python",
   "name": "python3"
  },
  "language_info": {
   "codemirror_mode": {
    "name": "ipython",
    "version": 2
   },
   "file_extension": ".py",
   "mimetype": "text/x-python",
   "name": "python",
   "nbconvert_exporter": "python",
   "pygments_lexer": "ipython2",
   "version": "2.7.6"
  }
 },
 "nbformat": 4,
 "nbformat_minor": 5
}
