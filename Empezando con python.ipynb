{
 "cells": [
  {
   "cell_type": "markdown",
   "source": [
    "## Tipos de datos en Python\n",
    "\n",
    "### Constantes\n",
    "\n",
    "son valores fijos, pueden ser numeros, letras, etc\n",
    "\n",
    "### Palabras reservadas\n",
    "\n",
    "No se pueden usar como nombres de variables.\n",
    "\n",
    "### Nombres de variables\n",
    "\n",
    "Una variable es un lugar nombrado en la memoria donde un programador puede guardar datos y después usarlos, usando el 'nombre' de la variable.\n",
    "\n",
    "Debe empezar con una letra o barra al piso _ (mejor con una letra).\n",
    "\n",
    "Debe consistir de letras, numberos y barras al piso.\n",
    "\n",
    "Sensible a mayusculas.\n",
    "\n",
    "### Sentencias o lineas"
   ],
   "metadata": {
    "collapsed": false
   },
   "id": "c543a0c98a978c9"
  },
  {
   "cell_type": "code",
   "execution_count": 1,
   "outputs": [
    {
     "name": "stdout",
     "output_type": "stream",
     "text": [
      "4\n"
     ]
    }
   ],
   "source": [
    "x = 2       # statement de asignación\n",
    "x = x + 2   # Asignación con una expresión\n",
    "print(x)    # Print statement"
   ],
   "metadata": {
    "collapsed": false,
    "ExecuteTime": {
     "end_time": "2023-10-16T01:38:05.588193300Z",
     "start_time": "2023-10-16T01:38:05.581110100Z"
    }
   },
   "id": "3d5949303a095f06"
  }
 ],
 "metadata": {
  "kernelspec": {
   "display_name": "Python 3",
   "language": "python",
   "name": "python3"
  },
  "language_info": {
   "codemirror_mode": {
    "name": "ipython",
    "version": 2
   },
   "file_extension": ".py",
   "mimetype": "text/x-python",
   "name": "python",
   "nbconvert_exporter": "python",
   "pygments_lexer": "ipython2",
   "version": "2.7.6"
  }
 },
 "nbformat": 4,
 "nbformat_minor": 5
}
